{
 "cells": [
  {
   "cell_type": "markdown",
   "id": "90b31a8c",
   "metadata": {},
   "source": [
    "# Aviation Accidents Analysis\n",
    "\n",
    "You are part of a consulting firm that is tasked to do an analysis of commercial and passenger jet airline safety. The client (an airline/airplane insurer) is interested in knowing what types of aircraft (makes/models) exhibit low rates of total destruction and low likelihood of fatal or serious passenger injuries in the event of an accident. They are also interested in any general variables/conditions that might be at play. Your analysis will be based off of aviation accident data accumulated from the years 1948-2023. \n",
    "\n",
    "Our client is only interested in airplane makes/models that are professional builds and could potentially still be active. Assume a max lifetime of 40 years for a make/model retirement and make sure to filter your data accordingly (i.e. from 1983 onwards). They would also like separate recommendations for small aircraft vs. larger passenger models. **In addition, make sure that claims that you make are statistically robust and that you have enough samples when making comparisons between groups.**\n",
    "\n",
    "\n",
    "In this summative assessment you will demonstrate your ability to:\n",
    "- Use Pandas to load, inspect, and clean the dataset appropriately. \n",
    "- Transform relevant columns to create measures that address the problem at hand.\n",
    "- **conduct EDA: visualization and statistical measures to understand the structure of the data**\n",
    "- **recommend a set of manufacturers to consider as well as specific airplanes conforming to the client's request**\n",
    "- **discuss the relationship between serious injuries/airplane damage incurred and at least *two* factors at play in the incident. You must provide supporting evidence (visuals, summary statistics, tables) for each claim you make.**"
   ]
  },
  {
   "cell_type": "code",
   "execution_count": 1,
   "id": "f41a5544",
   "metadata": {},
   "outputs": [],
   "source": [
    "# loading relevant packages\n",
    "import pandas as pd\n",
    "import numpy as np\n",
    "import matplotlib.pyplot as plt\n",
    "import seaborn as sns\n",
    "from pathlib import Path"
   ]
  },
  {
   "cell_type": "markdown",
   "id": "e5ce8ff6",
   "metadata": {},
   "source": [
    "## Exploratory Data Analysis  \n",
    "- Load in the cleaned data"
   ]
  },
  {
   "cell_type": "code",
   "execution_count": 2,
   "id": "149894c6",
   "metadata": {},
   "outputs": [
    {
     "name": "stdout",
     "output_type": "stream",
     "text": [
      "Loaded: data/aviation_clean.csv | shape=(18771, 34)\n"
     ]
    },
    {
     "data": {
      "application/vnd.microsoft.datawrangler.viewer.v0+json": {
       "columns": [
        {
         "name": "index",
         "rawType": "int64",
         "type": "integer"
        },
        {
         "name": "event_id",
         "rawType": "object",
         "type": "string"
        },
        {
         "name": "investigation_type",
         "rawType": "object",
         "type": "string"
        },
        {
         "name": "accident_number",
         "rawType": "object",
         "type": "string"
        },
        {
         "name": "event_date",
         "rawType": "object",
         "type": "string"
        },
        {
         "name": "location",
         "rawType": "object",
         "type": "string"
        },
        {
         "name": "country",
         "rawType": "object",
         "type": "string"
        },
        {
         "name": "latitude",
         "rawType": "object",
         "type": "unknown"
        },
        {
         "name": "longitude",
         "rawType": "object",
         "type": "unknown"
        },
        {
         "name": "airport_code",
         "rawType": "object",
         "type": "unknown"
        },
        {
         "name": "airport_name",
         "rawType": "object",
         "type": "unknown"
        },
        {
         "name": "injury_severity",
         "rawType": "object",
         "type": "string"
        },
        {
         "name": "aircraft_damage",
         "rawType": "object",
         "type": "unknown"
        },
        {
         "name": "aircraft_category",
         "rawType": "object",
         "type": "string"
        },
        {
         "name": "make",
         "rawType": "object",
         "type": "string"
        },
        {
         "name": "model",
         "rawType": "object",
         "type": "string"
        },
        {
         "name": "amateur_built",
         "rawType": "object",
         "type": "string"
        },
        {
         "name": "number_of_engines",
         "rawType": "float64",
         "type": "float"
        },
        {
         "name": "engine_type",
         "rawType": "object",
         "type": "string"
        },
        {
         "name": "far_description",
         "rawType": "object",
         "type": "string"
        },
        {
         "name": "schedule",
         "rawType": "object",
         "type": "unknown"
        },
        {
         "name": "purpose_of_flight",
         "rawType": "object",
         "type": "unknown"
        },
        {
         "name": "air_carrier",
         "rawType": "object",
         "type": "unknown"
        },
        {
         "name": "injuries_fatal",
         "rawType": "float64",
         "type": "float"
        },
        {
         "name": "injuries_serious",
         "rawType": "float64",
         "type": "float"
        },
        {
         "name": "injuries_minor",
         "rawType": "float64",
         "type": "float"
        },
        {
         "name": "uninjured",
         "rawType": "float64",
         "type": "float"
        },
        {
         "name": "weather_condition",
         "rawType": "object",
         "type": "string"
        },
        {
         "name": "broad_phase_of_flight",
         "rawType": "object",
         "type": "string"
        },
        {
         "name": "injuries_total",
         "rawType": "float64",
         "type": "float"
        },
        {
         "name": "fatal_serious_injuries",
         "rawType": "float64",
         "type": "float"
        },
        {
         "name": "fatal_serious_rate",
         "rawType": "float64",
         "type": "float"
        },
        {
         "name": "destroyed",
         "rawType": "int64",
         "type": "integer"
        },
        {
         "name": "make_model",
         "rawType": "object",
         "type": "string"
        },
        {
         "name": "single_engine",
         "rawType": "float64",
         "type": "float"
        }
       ],
       "ref": "43645fe5-15bf-4283-95ec-649f4b00ccd5",
       "rows": [
        [
         "0",
         "20001214X42478",
         "Incident",
         "LAX83IA149A",
         "1983-03-18",
         "LOS ANGELES, CA",
         "United States",
         null,
         null,
         "LAX",
         "LOS ANGELES INTL",
         "Incident",
         "MINOR",
         "Airplane",
         "BOEING",
         "747",
         "No",
         "4.0",
         "TURBO FAN",
         "Part 129: Foreign",
         "SCHD",
         "NAN",
         "Singapore Airlines, Ltd.",
         null,
         null,
         null,
         "588.0",
         "VMC",
         "TAXI",
         "588.0",
         "0.0",
         "0.0",
         "0",
         "BOEING 747",
         "0.0"
        ],
        [
         "1",
         "20001214X42331",
         "Accident",
         "ATL83FA140",
         "1983-03-20",
         "CROSSVILLE, TN",
         "United States",
         null,
         null,
         null,
         null,
         "Fatal(1)",
         "DESTROYED",
         "Airplane",
         "PIPER",
         "PA-28-140",
         "No",
         "1.0",
         "RECIPROCATING",
         "Part 91: General Aviation",
         null,
         "PERSONAL",
         null,
         "1.0",
         "1.0",
         null,
         null,
         "IMC",
         "CRUISE",
         "2.0",
         "2.0",
         "1.0",
         "1",
         "PIPER PA-28-140",
         "1.0"
        ],
        [
         "2",
         "20001214X42672",
         "Accident",
         "FTW83LA177",
         "1983-04-02",
         "MCKINNEY, TX",
         "United States",
         null,
         null,
         "TX05",
         "AERO COUNTRY",
         "Fatal(1)",
         null,
         "Airplane",
         "DE HAVILLAND",
         "DHC-6",
         "No",
         "2.0",
         "TURBO PROP",
         "Part 91: General Aviation",
         null,
         "SKYDIVING",
         null,
         "1.0",
         null,
         null,
         "4.0",
         "VMC",
         "STANDING",
         "5.0",
         "1.0",
         "0.2",
         "0",
         "DE HAVILLAND DHC-6",
         "0.0"
        ],
        [
         "3",
         "20001214X44248",
         "Incident",
         "MIA83IA210",
         "1983-08-21",
         "NORFOLK, VA",
         "United States",
         null,
         null,
         null,
         null,
         "Incident",
         "MINOR",
         "Airplane",
         "DOUGLAS",
         "DC-10-10",
         "No",
         "3.0",
         "TURBO FAN",
         "Part 121: Air Carrier",
         "SCHD",
         null,
         null,
         null,
         null,
         null,
         "289.0",
         "VMC",
         "CRUISE",
         "289.0",
         "0.0",
         "0.0",
         "0",
         "DOUGLAS DC-10-10",
         "0.0"
        ],
        [
         "4",
         "20001214X45013",
         "Incident",
         "CHI84IA041",
         "1983-11-08",
         "CHICAGO, IL",
         "United States",
         null,
         null,
         "ORD",
         "O'HARE",
         "Incident",
         "MINOR",
         "Airplane",
         "BOEING",
         "727-200",
         "No",
         "3.0",
         "TURBO FAN",
         "Part 121: Air Carrier",
         "SCHD",
         null,
         null,
         null,
         null,
         null,
         "100.0",
         "VMC",
         "TAXI",
         "100.0",
         "0.0",
         "0.0",
         "0",
         "BOEING 727-200",
         "0.0"
        ]
       ],
       "shape": {
        "columns": 34,
        "rows": 5
       }
      },
      "text/html": [
       "<div>\n",
       "<style scoped>\n",
       "    .dataframe tbody tr th:only-of-type {\n",
       "        vertical-align: middle;\n",
       "    }\n",
       "\n",
       "    .dataframe tbody tr th {\n",
       "        vertical-align: top;\n",
       "    }\n",
       "\n",
       "    .dataframe thead th {\n",
       "        text-align: right;\n",
       "    }\n",
       "</style>\n",
       "<table border=\"1\" class=\"dataframe\">\n",
       "  <thead>\n",
       "    <tr style=\"text-align: right;\">\n",
       "      <th></th>\n",
       "      <th>event_id</th>\n",
       "      <th>investigation_type</th>\n",
       "      <th>accident_number</th>\n",
       "      <th>event_date</th>\n",
       "      <th>location</th>\n",
       "      <th>country</th>\n",
       "      <th>latitude</th>\n",
       "      <th>longitude</th>\n",
       "      <th>airport_code</th>\n",
       "      <th>airport_name</th>\n",
       "      <th>...</th>\n",
       "      <th>injuries_minor</th>\n",
       "      <th>uninjured</th>\n",
       "      <th>weather_condition</th>\n",
       "      <th>broad_phase_of_flight</th>\n",
       "      <th>injuries_total</th>\n",
       "      <th>fatal_serious_injuries</th>\n",
       "      <th>fatal_serious_rate</th>\n",
       "      <th>destroyed</th>\n",
       "      <th>make_model</th>\n",
       "      <th>single_engine</th>\n",
       "    </tr>\n",
       "  </thead>\n",
       "  <tbody>\n",
       "    <tr>\n",
       "      <th>0</th>\n",
       "      <td>20001214X42478</td>\n",
       "      <td>Incident</td>\n",
       "      <td>LAX83IA149A</td>\n",
       "      <td>1983-03-18</td>\n",
       "      <td>LOS ANGELES, CA</td>\n",
       "      <td>United States</td>\n",
       "      <td>NaN</td>\n",
       "      <td>NaN</td>\n",
       "      <td>LAX</td>\n",
       "      <td>LOS ANGELES INTL</td>\n",
       "      <td>...</td>\n",
       "      <td>NaN</td>\n",
       "      <td>588.0</td>\n",
       "      <td>VMC</td>\n",
       "      <td>TAXI</td>\n",
       "      <td>588.0</td>\n",
       "      <td>0.0</td>\n",
       "      <td>0.0</td>\n",
       "      <td>0</td>\n",
       "      <td>BOEING 747</td>\n",
       "      <td>0.0</td>\n",
       "    </tr>\n",
       "    <tr>\n",
       "      <th>1</th>\n",
       "      <td>20001214X42331</td>\n",
       "      <td>Accident</td>\n",
       "      <td>ATL83FA140</td>\n",
       "      <td>1983-03-20</td>\n",
       "      <td>CROSSVILLE, TN</td>\n",
       "      <td>United States</td>\n",
       "      <td>NaN</td>\n",
       "      <td>NaN</td>\n",
       "      <td>NaN</td>\n",
       "      <td>NaN</td>\n",
       "      <td>...</td>\n",
       "      <td>NaN</td>\n",
       "      <td>NaN</td>\n",
       "      <td>IMC</td>\n",
       "      <td>CRUISE</td>\n",
       "      <td>2.0</td>\n",
       "      <td>2.0</td>\n",
       "      <td>1.0</td>\n",
       "      <td>1</td>\n",
       "      <td>PIPER PA-28-140</td>\n",
       "      <td>1.0</td>\n",
       "    </tr>\n",
       "    <tr>\n",
       "      <th>2</th>\n",
       "      <td>20001214X42672</td>\n",
       "      <td>Accident</td>\n",
       "      <td>FTW83LA177</td>\n",
       "      <td>1983-04-02</td>\n",
       "      <td>MCKINNEY, TX</td>\n",
       "      <td>United States</td>\n",
       "      <td>NaN</td>\n",
       "      <td>NaN</td>\n",
       "      <td>TX05</td>\n",
       "      <td>AERO COUNTRY</td>\n",
       "      <td>...</td>\n",
       "      <td>NaN</td>\n",
       "      <td>4.0</td>\n",
       "      <td>VMC</td>\n",
       "      <td>STANDING</td>\n",
       "      <td>5.0</td>\n",
       "      <td>1.0</td>\n",
       "      <td>0.2</td>\n",
       "      <td>0</td>\n",
       "      <td>DE HAVILLAND DHC-6</td>\n",
       "      <td>0.0</td>\n",
       "    </tr>\n",
       "    <tr>\n",
       "      <th>3</th>\n",
       "      <td>20001214X44248</td>\n",
       "      <td>Incident</td>\n",
       "      <td>MIA83IA210</td>\n",
       "      <td>1983-08-21</td>\n",
       "      <td>NORFOLK, VA</td>\n",
       "      <td>United States</td>\n",
       "      <td>NaN</td>\n",
       "      <td>NaN</td>\n",
       "      <td>NaN</td>\n",
       "      <td>NaN</td>\n",
       "      <td>...</td>\n",
       "      <td>NaN</td>\n",
       "      <td>289.0</td>\n",
       "      <td>VMC</td>\n",
       "      <td>CRUISE</td>\n",
       "      <td>289.0</td>\n",
       "      <td>0.0</td>\n",
       "      <td>0.0</td>\n",
       "      <td>0</td>\n",
       "      <td>DOUGLAS DC-10-10</td>\n",
       "      <td>0.0</td>\n",
       "    </tr>\n",
       "    <tr>\n",
       "      <th>4</th>\n",
       "      <td>20001214X45013</td>\n",
       "      <td>Incident</td>\n",
       "      <td>CHI84IA041</td>\n",
       "      <td>1983-11-08</td>\n",
       "      <td>CHICAGO, IL</td>\n",
       "      <td>United States</td>\n",
       "      <td>NaN</td>\n",
       "      <td>NaN</td>\n",
       "      <td>ORD</td>\n",
       "      <td>O'HARE</td>\n",
       "      <td>...</td>\n",
       "      <td>NaN</td>\n",
       "      <td>100.0</td>\n",
       "      <td>VMC</td>\n",
       "      <td>TAXI</td>\n",
       "      <td>100.0</td>\n",
       "      <td>0.0</td>\n",
       "      <td>0.0</td>\n",
       "      <td>0</td>\n",
       "      <td>BOEING 727-200</td>\n",
       "      <td>0.0</td>\n",
       "    </tr>\n",
       "  </tbody>\n",
       "</table>\n",
       "<p>5 rows × 34 columns</p>\n",
       "</div>"
      ],
      "text/plain": [
       "         event_id investigation_type accident_number  event_date  \\\n",
       "0  20001214X42478           Incident     LAX83IA149A  1983-03-18   \n",
       "1  20001214X42331           Accident      ATL83FA140  1983-03-20   \n",
       "2  20001214X42672           Accident      FTW83LA177  1983-04-02   \n",
       "3  20001214X44248           Incident      MIA83IA210  1983-08-21   \n",
       "4  20001214X45013           Incident      CHI84IA041  1983-11-08   \n",
       "\n",
       "          location        country latitude longitude airport_code  \\\n",
       "0  LOS ANGELES, CA  United States      NaN       NaN          LAX   \n",
       "1   CROSSVILLE, TN  United States      NaN       NaN          NaN   \n",
       "2     MCKINNEY, TX  United States      NaN       NaN         TX05   \n",
       "3      NORFOLK, VA  United States      NaN       NaN          NaN   \n",
       "4      CHICAGO, IL  United States      NaN       NaN          ORD   \n",
       "\n",
       "       airport_name  ... injuries_minor uninjured weather_condition  \\\n",
       "0  LOS ANGELES INTL  ...            NaN     588.0               VMC   \n",
       "1               NaN  ...            NaN       NaN               IMC   \n",
       "2      AERO COUNTRY  ...            NaN       4.0               VMC   \n",
       "3               NaN  ...            NaN     289.0               VMC   \n",
       "4            O'HARE  ...            NaN     100.0               VMC   \n",
       "\n",
       "  broad_phase_of_flight injuries_total fatal_serious_injuries  \\\n",
       "0                  TAXI          588.0                    0.0   \n",
       "1                CRUISE            2.0                    2.0   \n",
       "2              STANDING            5.0                    1.0   \n",
       "3                CRUISE          289.0                    0.0   \n",
       "4                  TAXI          100.0                    0.0   \n",
       "\n",
       "   fatal_serious_rate destroyed          make_model single_engine  \n",
       "0                 0.0         0          BOEING 747           0.0  \n",
       "1                 1.0         1     PIPER PA-28-140           1.0  \n",
       "2                 0.2         0  DE HAVILLAND DHC-6           0.0  \n",
       "3                 0.0         0    DOUGLAS DC-10-10           0.0  \n",
       "4                 0.0         0      BOEING 727-200           0.0  \n",
       "\n",
       "[5 rows x 34 columns]"
      ]
     },
     "metadata": {},
     "output_type": "display_data"
    },
    {
     "name": "stdout",
     "output_type": "stream",
     "text": [
      "<class 'pandas.core.frame.DataFrame'>\n",
      "RangeIndex: 18771 entries, 0 to 18770\n",
      "Data columns (total 34 columns):\n",
      " #   Column                  Non-Null Count  Dtype  \n",
      "---  ------                  --------------  -----  \n",
      " 0   event_id                18771 non-null  object \n",
      " 1   investigation_type      18771 non-null  object \n",
      " 2   accident_number         18771 non-null  object \n",
      " 3   event_date              18771 non-null  object \n",
      " 4   location                18765 non-null  object \n",
      " 5   country                 18770 non-null  object \n",
      " 6   latitude                16763 non-null  object \n",
      " 7   longitude               16760 non-null  object \n",
      " 8   airport_code            12227 non-null  object \n",
      " 9   airport_name            12331 non-null  object \n",
      " 10  injury_severity         18040 non-null  object \n",
      " 11  aircraft_damage         17666 non-null  object \n",
      " 12  aircraft_category       18771 non-null  object \n",
      " 13  make                    18771 non-null  object \n",
      " 14  model                   18771 non-null  object \n",
      " 15  amateur_built           18758 non-null  object \n",
      " 16  number_of_engines       16522 non-null  float64\n",
      " 17  engine_type             15219 non-null  object \n",
      " 18  far_description         18398 non-null  object \n",
      " 19  schedule                2275 non-null   object \n",
      " 20  purpose_of_flight       18432 non-null  object \n",
      " 21  air_carrier             8846 non-null   object \n",
      " 22  injuries_fatal          16298 non-null  float64\n",
      " 23  injuries_serious        16221 non-null  float64\n",
      " 24  injuries_minor          16461 non-null  float64\n",
      " 25  uninjured               18143 non-null  float64\n",
      " 26  weather_condition       18771 non-null  object \n",
      " 27  broad_phase_of_flight   18759 non-null  object \n",
      " 28  injuries_total          18715 non-null  float64\n",
      " 29  fatal_serious_injuries  18771 non-null  float64\n",
      " 30  fatal_serious_rate      17960 non-null  float64\n",
      " 31  destroyed               18771 non-null  int64  \n",
      " 32  make_model              18771 non-null  object \n",
      " 33  single_engine           16522 non-null  float64\n",
      "dtypes: float64(9), int64(1), object(24)\n",
      "memory usage: 4.9+ MB\n"
     ]
    },
    {
     "data": {
      "application/vnd.microsoft.datawrangler.viewer.v0+json": {
       "columns": [
        {
         "name": "index",
         "rawType": "object",
         "type": "string"
        },
        {
         "name": "0",
         "rawType": "int64",
         "type": "integer"
        }
       ],
       "ref": "e3b91215-c0c1-4dd0-ba80-9f89effa41a2",
       "rows": [
        [
         "schedule",
         "16496"
        ],
        [
         "air_carrier",
         "9925"
        ],
        [
         "airport_code",
         "6544"
        ],
        [
         "airport_name",
         "6440"
        ],
        [
         "engine_type",
         "3552"
        ],
        [
         "injuries_serious",
         "2550"
        ],
        [
         "injuries_fatal",
         "2473"
        ],
        [
         "injuries_minor",
         "2310"
        ],
        [
         "number_of_engines",
         "2249"
        ],
        [
         "single_engine",
         "2249"
        ],
        [
         "longitude",
         "2011"
        ],
        [
         "latitude",
         "2008"
        ],
        [
         "aircraft_damage",
         "1105"
        ],
        [
         "fatal_serious_rate",
         "811"
        ],
        [
         "injury_severity",
         "731"
        ],
        [
         "uninjured",
         "628"
        ],
        [
         "far_description",
         "373"
        ],
        [
         "purpose_of_flight",
         "339"
        ],
        [
         "injuries_total",
         "56"
        ],
        [
         "amateur_built",
         "13"
        ]
       ],
       "shape": {
        "columns": 1,
        "rows": 20
       }
      },
      "text/plain": [
       "schedule              16496\n",
       "air_carrier            9925\n",
       "airport_code           6544\n",
       "airport_name           6440\n",
       "engine_type            3552\n",
       "injuries_serious       2550\n",
       "injuries_fatal         2473\n",
       "injuries_minor         2310\n",
       "number_of_engines      2249\n",
       "single_engine          2249\n",
       "longitude              2011\n",
       "latitude               2008\n",
       "aircraft_damage        1105\n",
       "fatal_serious_rate      811\n",
       "injury_severity         731\n",
       "uninjured               628\n",
       "far_description         373\n",
       "purpose_of_flight       339\n",
       "injuries_total           56\n",
       "amateur_built            13\n",
       "dtype: int64"
      ]
     },
     "execution_count": 2,
     "metadata": {},
     "output_type": "execute_result"
    }
   ],
   "source": [
    "# Load the cleaned data\n",
    "from pathlib import Path\n",
    "\n",
    "candidates = [\n",
    "    Path(\"data/aviation_clean.csv\"),\n",
    "    Path(\"data/processed/aviation_clean.csv\"),\n",
    "    Path(\"aviation_clean.csv\"),\n",
    "]\n",
    "csv_path = next((p for p in candidates if p.exists()), None)\n",
    "if csv_path is None:\n",
    "    raise FileNotFoundError(\"Couldn't find aviation_clean.csv. Put it in data/ or data/processed/.\")\n",
    "\n",
    "df = pd.read_csv(csv_path)\n",
    "\n",
    "# Normalize headers (safe to run even if already normalized)\n",
    "df.columns = (df.columns\n",
    "              .str.strip()\n",
    "              .str.lower()\n",
    "              .str.replace(r'[^0-9a-z]+', '_', regex=True)\n",
    "              .str.strip('_'))\n",
    "\n",
    "print(f\"Loaded: {csv_path} | shape={df.shape}\")\n",
    "display(df.head())\n",
    "df.info()\n",
    "df.isna().sum().sort_values(ascending=False).head(20)\n"
   ]
  },
  {
   "cell_type": "markdown",
   "id": "d3e993dc",
   "metadata": {},
   "source": [
    "## Explore safety metrics across models/makes\n",
    "- Remember that the client is interested in separate recommendations for smaller airplanes and larger airplanes. Choose a passenger threshold of 20 and separate the plane types. "
   ]
  },
  {
   "cell_type": "code",
   "execution_count": 3,
   "id": "a99e3af0",
   "metadata": {
    "scrolled": false
   },
   "outputs": [
    {
     "name": "stdout",
     "output_type": "stream",
     "text": [
      "Segment counts:\n",
      " segment\n",
      "small    17788\n",
      "large      937\n",
      "<NA>        46\n",
      "Name: count, dtype: int64 \n",
      "\n",
      "Make-level summary (first 20 rows):\n"
     ]
    },
    {
     "data": {
      "application/vnd.microsoft.datawrangler.viewer.v0+json": {
       "columns": [
        {
         "name": "index",
         "rawType": "int64",
         "type": "integer"
        },
        {
         "name": "segment",
         "rawType": "object",
         "type": "string"
        },
        {
         "name": "make",
         "rawType": "object",
         "type": "string"
        },
        {
         "name": "fatal_serious_rate_mean",
         "rawType": "float64",
         "type": "float"
        },
        {
         "name": "destroyed_rate",
         "rawType": "float64",
         "type": "float"
        },
        {
         "name": "n",
         "rawType": "int64",
         "type": "integer"
        }
       ],
       "ref": "171fc477-888a-408e-8533-c835b0f77677",
       "rows": [
        [
         "0",
         "large",
         "AIRBUS",
         "0.08552375023815985",
         "0.0743801652892562",
         "121"
        ],
        [
         "1",
         "large",
         "AIRBUS INDUSTRIE",
         "0.0678747436435787",
         "0.08571428571428572",
         "35"
        ],
        [
         "3",
         "large",
         "BOEING",
         "0.05817348865263541",
         "0.05045045045045045",
         "555"
        ],
        [
         "4",
         "large",
         "BOMBARDIER",
         "0.06370084620616469",
         "0.047619047619047616",
         "21"
        ],
        [
         "5",
         "large",
         "BOMBARDIER INC",
         "0.028037696787696787",
         "0.022727272727272728",
         "44"
        ],
        [
         "10",
         "large",
         "EMBRAER",
         "0.06527401992319853",
         "0.05128205128205128",
         "78"
        ],
        [
         "14",
         "large",
         "MCDONNELL DOUGLAS",
         "0.007827057000335367",
         "0.07547169811320754",
         "53"
        ],
        [
         "17",
         "small",
         "AERO COMMANDER",
         "0.41292134831460675",
         "0.14444444444444443",
         "90"
        ],
        [
         "18",
         "small",
         "AERONCA",
         "0.22583333333333333",
         "0.035",
         "200"
        ],
        [
         "19",
         "small",
         "AIR TRACTOR",
         "0.3497536945812808",
         "0.16990291262135923",
         "206"
        ],
        [
         "20",
         "small",
         "AIR TRACTOR INC",
         "0.3356164383561644",
         "0.1050228310502283",
         "219"
        ],
        [
         "21",
         "small",
         "AIRBUS",
         "0.3277310924369748",
         "0.024193548387096774",
         "124"
        ],
        [
         "23",
         "small",
         "AMERICAN CHAMPION AIRCRAFT",
         "0.2692307692307692",
         "0.038461538461538464",
         "52"
        ],
        [
         "24",
         "small",
         "AVIAT",
         "0.22142857142857142",
         "0.1",
         "70"
        ],
        [
         "25",
         "small",
         "AVIAT AIRCRAFT INC",
         "0.16447368421052633",
         "0.039473684210526314",
         "76"
        ],
        [
         "26",
         "small",
         "AYRES",
         "0.21568627450980393",
         "0.1346153846153846",
         "52"
        ],
        [
         "27",
         "small",
         "AYRES CORPORATION",
         "0.3170731707317073",
         "0.12195121951219512",
         "41"
        ],
        [
         "28",
         "small",
         "BEECH",
         "0.3742634794777146",
         "0.17436974789915966",
         "1428"
        ],
        [
         "29",
         "small",
         "BELLANCA",
         "0.2215909090909091",
         "0.05",
         "220"
        ],
        [
         "30",
         "small",
         "BOEING",
         "0.1414526560130956",
         "0.03597122302158273",
         "695"
        ]
       ],
       "shape": {
        "columns": 5,
        "rows": 20
       }
      },
      "text/html": [
       "<div>\n",
       "<style scoped>\n",
       "    .dataframe tbody tr th:only-of-type {\n",
       "        vertical-align: middle;\n",
       "    }\n",
       "\n",
       "    .dataframe tbody tr th {\n",
       "        vertical-align: top;\n",
       "    }\n",
       "\n",
       "    .dataframe thead th {\n",
       "        text-align: right;\n",
       "    }\n",
       "</style>\n",
       "<table border=\"1\" class=\"dataframe\">\n",
       "  <thead>\n",
       "    <tr style=\"text-align: right;\">\n",
       "      <th></th>\n",
       "      <th>segment</th>\n",
       "      <th>make</th>\n",
       "      <th>fatal_serious_rate_mean</th>\n",
       "      <th>destroyed_rate</th>\n",
       "      <th>n</th>\n",
       "    </tr>\n",
       "  </thead>\n",
       "  <tbody>\n",
       "    <tr>\n",
       "      <th>0</th>\n",
       "      <td>large</td>\n",
       "      <td>AIRBUS</td>\n",
       "      <td>0.085524</td>\n",
       "      <td>0.074380</td>\n",
       "      <td>121</td>\n",
       "    </tr>\n",
       "    <tr>\n",
       "      <th>1</th>\n",
       "      <td>large</td>\n",
       "      <td>AIRBUS INDUSTRIE</td>\n",
       "      <td>0.067875</td>\n",
       "      <td>0.085714</td>\n",
       "      <td>35</td>\n",
       "    </tr>\n",
       "    <tr>\n",
       "      <th>3</th>\n",
       "      <td>large</td>\n",
       "      <td>BOEING</td>\n",
       "      <td>0.058173</td>\n",
       "      <td>0.050450</td>\n",
       "      <td>555</td>\n",
       "    </tr>\n",
       "    <tr>\n",
       "      <th>4</th>\n",
       "      <td>large</td>\n",
       "      <td>BOMBARDIER</td>\n",
       "      <td>0.063701</td>\n",
       "      <td>0.047619</td>\n",
       "      <td>21</td>\n",
       "    </tr>\n",
       "    <tr>\n",
       "      <th>5</th>\n",
       "      <td>large</td>\n",
       "      <td>BOMBARDIER INC</td>\n",
       "      <td>0.028038</td>\n",
       "      <td>0.022727</td>\n",
       "      <td>44</td>\n",
       "    </tr>\n",
       "    <tr>\n",
       "      <th>10</th>\n",
       "      <td>large</td>\n",
       "      <td>EMBRAER</td>\n",
       "      <td>0.065274</td>\n",
       "      <td>0.051282</td>\n",
       "      <td>78</td>\n",
       "    </tr>\n",
       "    <tr>\n",
       "      <th>14</th>\n",
       "      <td>large</td>\n",
       "      <td>MCDONNELL DOUGLAS</td>\n",
       "      <td>0.007827</td>\n",
       "      <td>0.075472</td>\n",
       "      <td>53</td>\n",
       "    </tr>\n",
       "    <tr>\n",
       "      <th>17</th>\n",
       "      <td>small</td>\n",
       "      <td>AERO COMMANDER</td>\n",
       "      <td>0.412921</td>\n",
       "      <td>0.144444</td>\n",
       "      <td>90</td>\n",
       "    </tr>\n",
       "    <tr>\n",
       "      <th>18</th>\n",
       "      <td>small</td>\n",
       "      <td>AERONCA</td>\n",
       "      <td>0.225833</td>\n",
       "      <td>0.035000</td>\n",
       "      <td>200</td>\n",
       "    </tr>\n",
       "    <tr>\n",
       "      <th>19</th>\n",
       "      <td>small</td>\n",
       "      <td>AIR TRACTOR</td>\n",
       "      <td>0.349754</td>\n",
       "      <td>0.169903</td>\n",
       "      <td>206</td>\n",
       "    </tr>\n",
       "    <tr>\n",
       "      <th>20</th>\n",
       "      <td>small</td>\n",
       "      <td>AIR TRACTOR INC</td>\n",
       "      <td>0.335616</td>\n",
       "      <td>0.105023</td>\n",
       "      <td>219</td>\n",
       "    </tr>\n",
       "    <tr>\n",
       "      <th>21</th>\n",
       "      <td>small</td>\n",
       "      <td>AIRBUS</td>\n",
       "      <td>0.327731</td>\n",
       "      <td>0.024194</td>\n",
       "      <td>124</td>\n",
       "    </tr>\n",
       "    <tr>\n",
       "      <th>23</th>\n",
       "      <td>small</td>\n",
       "      <td>AMERICAN CHAMPION AIRCRAFT</td>\n",
       "      <td>0.269231</td>\n",
       "      <td>0.038462</td>\n",
       "      <td>52</td>\n",
       "    </tr>\n",
       "    <tr>\n",
       "      <th>24</th>\n",
       "      <td>small</td>\n",
       "      <td>AVIAT</td>\n",
       "      <td>0.221429</td>\n",
       "      <td>0.100000</td>\n",
       "      <td>70</td>\n",
       "    </tr>\n",
       "    <tr>\n",
       "      <th>25</th>\n",
       "      <td>small</td>\n",
       "      <td>AVIAT AIRCRAFT INC</td>\n",
       "      <td>0.164474</td>\n",
       "      <td>0.039474</td>\n",
       "      <td>76</td>\n",
       "    </tr>\n",
       "    <tr>\n",
       "      <th>26</th>\n",
       "      <td>small</td>\n",
       "      <td>AYRES</td>\n",
       "      <td>0.215686</td>\n",
       "      <td>0.134615</td>\n",
       "      <td>52</td>\n",
       "    </tr>\n",
       "    <tr>\n",
       "      <th>27</th>\n",
       "      <td>small</td>\n",
       "      <td>AYRES CORPORATION</td>\n",
       "      <td>0.317073</td>\n",
       "      <td>0.121951</td>\n",
       "      <td>41</td>\n",
       "    </tr>\n",
       "    <tr>\n",
       "      <th>28</th>\n",
       "      <td>small</td>\n",
       "      <td>BEECH</td>\n",
       "      <td>0.374263</td>\n",
       "      <td>0.174370</td>\n",
       "      <td>1428</td>\n",
       "    </tr>\n",
       "    <tr>\n",
       "      <th>29</th>\n",
       "      <td>small</td>\n",
       "      <td>BELLANCA</td>\n",
       "      <td>0.221591</td>\n",
       "      <td>0.050000</td>\n",
       "      <td>220</td>\n",
       "    </tr>\n",
       "    <tr>\n",
       "      <th>30</th>\n",
       "      <td>small</td>\n",
       "      <td>BOEING</td>\n",
       "      <td>0.141453</td>\n",
       "      <td>0.035971</td>\n",
       "      <td>695</td>\n",
       "    </tr>\n",
       "  </tbody>\n",
       "</table>\n",
       "</div>"
      ],
      "text/plain": [
       "   segment                        make  fatal_serious_rate_mean  \\\n",
       "0    large                      AIRBUS                 0.085524   \n",
       "1    large            AIRBUS INDUSTRIE                 0.067875   \n",
       "3    large                      BOEING                 0.058173   \n",
       "4    large                  BOMBARDIER                 0.063701   \n",
       "5    large              BOMBARDIER INC                 0.028038   \n",
       "10   large                     EMBRAER                 0.065274   \n",
       "14   large           MCDONNELL DOUGLAS                 0.007827   \n",
       "17   small              AERO COMMANDER                 0.412921   \n",
       "18   small                     AERONCA                 0.225833   \n",
       "19   small                 AIR TRACTOR                 0.349754   \n",
       "20   small             AIR TRACTOR INC                 0.335616   \n",
       "21   small                      AIRBUS                 0.327731   \n",
       "23   small  AMERICAN CHAMPION AIRCRAFT                 0.269231   \n",
       "24   small                       AVIAT                 0.221429   \n",
       "25   small          AVIAT AIRCRAFT INC                 0.164474   \n",
       "26   small                       AYRES                 0.215686   \n",
       "27   small           AYRES CORPORATION                 0.317073   \n",
       "28   small                       BEECH                 0.374263   \n",
       "29   small                    BELLANCA                 0.221591   \n",
       "30   small                      BOEING                 0.141453   \n",
       "\n",
       "    destroyed_rate     n  \n",
       "0         0.074380   121  \n",
       "1         0.085714    35  \n",
       "3         0.050450   555  \n",
       "4         0.047619    21  \n",
       "5         0.022727    44  \n",
       "10        0.051282    78  \n",
       "14        0.075472    53  \n",
       "17        0.144444    90  \n",
       "18        0.035000   200  \n",
       "19        0.169903   206  \n",
       "20        0.105023   219  \n",
       "21        0.024194   124  \n",
       "23        0.038462    52  \n",
       "24        0.100000    70  \n",
       "25        0.039474    76  \n",
       "26        0.134615    52  \n",
       "27        0.121951    41  \n",
       "28        0.174370  1428  \n",
       "29        0.050000   220  \n",
       "30        0.035971   695  "
      ]
     },
     "metadata": {},
     "output_type": "display_data"
    },
    {
     "name": "stdout",
     "output_type": "stream",
     "text": [
      "Model-level summary (first 20 rows):\n"
     ]
    },
    {
     "data": {
      "application/vnd.microsoft.datawrangler.viewer.v0+json": {
       "columns": [
        {
         "name": "index",
         "rawType": "int64",
         "type": "integer"
        },
        {
         "name": "segment",
         "rawType": "object",
         "type": "string"
        },
        {
         "name": "make",
         "rawType": "object",
         "type": "string"
        },
        {
         "name": "model",
         "rawType": "object",
         "type": "string"
        },
        {
         "name": "fatal_serious_rate_mean",
         "rawType": "float64",
         "type": "float"
        },
        {
         "name": "destroyed_rate",
         "rawType": "float64",
         "type": "float"
        },
        {
         "name": "n",
         "rawType": "int64",
         "type": "integer"
        }
       ],
       "ref": "e34b48fd-d09d-4a07-b1db-1030e084ef4e",
       "rows": [
        [
         "14",
         "large",
         "AIRBUS",
         "A320",
         "0.12669398861259326",
         "0.12",
         "25"
        ],
        [
         "73",
         "large",
         "BOEING",
         "737",
         "0.08072732401868514",
         "0.06707317073170732",
         "164"
        ],
        [
         "152",
         "large",
         "BOEING",
         "767",
         "0.046962599616317276",
         "0.03225806451612903",
         "31"
        ],
        [
         "174",
         "large",
         "BOEING",
         "777",
         "0.0008209861938249787",
         "0.030303030303030304",
         "33"
        ],
        [
         "366",
         "small",
         "AERONCA",
         "11AC",
         "0.23214285714285715",
         "0.03571428571428571",
         "28"
        ],
        [
         "377",
         "small",
         "AERONCA",
         "7AC",
         "0.2752808988764045",
         "0.033707865168539325",
         "89"
        ],
        [
         "432",
         "small",
         "AIR TRACTOR",
         "AT502",
         "0.6111111111111112",
         "0.24324324324324326",
         "37"
        ],
        [
         "435",
         "small",
         "AIR TRACTOR",
         "AT802",
         "0.475",
         "0.3",
         "20"
        ],
        [
         "451",
         "small",
         "AIR TRACTOR INC",
         "AT-301",
         "0.2962962962962963",
         "0.037037037037037035",
         "27"
        ],
        [
         "463",
         "small",
         "AIR TRACTOR INC",
         "AT-502B",
         "0.19230769230769232",
         "0.0",
         "26"
        ],
        [
         "464",
         "small",
         "AIR TRACTOR INC",
         "AT-602",
         "0.5",
         "0.07692307692307693",
         "26"
        ],
        [
         "480",
         "small",
         "AIRBUS",
         "A320",
         "0.5",
         "0.018518518518518517",
         "54"
        ],
        [
         "515",
         "small",
         "AVIAT",
         "A-1B",
         "0.14285714285714285",
         "0.047619047619047616",
         "21"
        ],
        [
         "541",
         "small",
         "AVIAT AIRCRAFT INC",
         "A-1B",
         "0.18181818181818182",
         "0.0",
         "22"
        ],
        [
         "553",
         "small",
         "AYRES",
         "S2R",
         "0.3333333333333333",
         "0.2727272727272727",
         "22"
        ],
        [
         "586",
         "small",
         "BEECH",
         "200",
         "0.3082010582010582",
         "0.25",
         "36"
        ],
        [
         "588",
         "small",
         "BEECH",
         "23",
         "0.2840909090909091",
         "0.0",
         "22"
        ],
        [
         "592",
         "small",
         "BEECH",
         "35",
         "0.3282312925170068",
         "0.061224489795918366",
         "49"
        ],
        [
         "609",
         "small",
         "BEECH",
         "36",
         "0.13333333333333333",
         "0.16129032258064516",
         "31"
        ],
        [
         "618",
         "small",
         "BEECH",
         "58",
         "0.47175925925925927",
         "0.19444444444444445",
         "72"
        ]
       ],
       "shape": {
        "columns": 6,
        "rows": 20
       }
      },
      "text/html": [
       "<div>\n",
       "<style scoped>\n",
       "    .dataframe tbody tr th:only-of-type {\n",
       "        vertical-align: middle;\n",
       "    }\n",
       "\n",
       "    .dataframe tbody tr th {\n",
       "        vertical-align: top;\n",
       "    }\n",
       "\n",
       "    .dataframe thead th {\n",
       "        text-align: right;\n",
       "    }\n",
       "</style>\n",
       "<table border=\"1\" class=\"dataframe\">\n",
       "  <thead>\n",
       "    <tr style=\"text-align: right;\">\n",
       "      <th></th>\n",
       "      <th>segment</th>\n",
       "      <th>make</th>\n",
       "      <th>model</th>\n",
       "      <th>fatal_serious_rate_mean</th>\n",
       "      <th>destroyed_rate</th>\n",
       "      <th>n</th>\n",
       "    </tr>\n",
       "  </thead>\n",
       "  <tbody>\n",
       "    <tr>\n",
       "      <th>14</th>\n",
       "      <td>large</td>\n",
       "      <td>AIRBUS</td>\n",
       "      <td>A320</td>\n",
       "      <td>0.126694</td>\n",
       "      <td>0.120000</td>\n",
       "      <td>25</td>\n",
       "    </tr>\n",
       "    <tr>\n",
       "      <th>73</th>\n",
       "      <td>large</td>\n",
       "      <td>BOEING</td>\n",
       "      <td>737</td>\n",
       "      <td>0.080727</td>\n",
       "      <td>0.067073</td>\n",
       "      <td>164</td>\n",
       "    </tr>\n",
       "    <tr>\n",
       "      <th>152</th>\n",
       "      <td>large</td>\n",
       "      <td>BOEING</td>\n",
       "      <td>767</td>\n",
       "      <td>0.046963</td>\n",
       "      <td>0.032258</td>\n",
       "      <td>31</td>\n",
       "    </tr>\n",
       "    <tr>\n",
       "      <th>174</th>\n",
       "      <td>large</td>\n",
       "      <td>BOEING</td>\n",
       "      <td>777</td>\n",
       "      <td>0.000821</td>\n",
       "      <td>0.030303</td>\n",
       "      <td>33</td>\n",
       "    </tr>\n",
       "    <tr>\n",
       "      <th>366</th>\n",
       "      <td>small</td>\n",
       "      <td>AERONCA</td>\n",
       "      <td>11AC</td>\n",
       "      <td>0.232143</td>\n",
       "      <td>0.035714</td>\n",
       "      <td>28</td>\n",
       "    </tr>\n",
       "    <tr>\n",
       "      <th>377</th>\n",
       "      <td>small</td>\n",
       "      <td>AERONCA</td>\n",
       "      <td>7AC</td>\n",
       "      <td>0.275281</td>\n",
       "      <td>0.033708</td>\n",
       "      <td>89</td>\n",
       "    </tr>\n",
       "    <tr>\n",
       "      <th>432</th>\n",
       "      <td>small</td>\n",
       "      <td>AIR TRACTOR</td>\n",
       "      <td>AT502</td>\n",
       "      <td>0.611111</td>\n",
       "      <td>0.243243</td>\n",
       "      <td>37</td>\n",
       "    </tr>\n",
       "    <tr>\n",
       "      <th>435</th>\n",
       "      <td>small</td>\n",
       "      <td>AIR TRACTOR</td>\n",
       "      <td>AT802</td>\n",
       "      <td>0.475000</td>\n",
       "      <td>0.300000</td>\n",
       "      <td>20</td>\n",
       "    </tr>\n",
       "    <tr>\n",
       "      <th>451</th>\n",
       "      <td>small</td>\n",
       "      <td>AIR TRACTOR INC</td>\n",
       "      <td>AT-301</td>\n",
       "      <td>0.296296</td>\n",
       "      <td>0.037037</td>\n",
       "      <td>27</td>\n",
       "    </tr>\n",
       "    <tr>\n",
       "      <th>463</th>\n",
       "      <td>small</td>\n",
       "      <td>AIR TRACTOR INC</td>\n",
       "      <td>AT-502B</td>\n",
       "      <td>0.192308</td>\n",
       "      <td>0.000000</td>\n",
       "      <td>26</td>\n",
       "    </tr>\n",
       "    <tr>\n",
       "      <th>464</th>\n",
       "      <td>small</td>\n",
       "      <td>AIR TRACTOR INC</td>\n",
       "      <td>AT-602</td>\n",
       "      <td>0.500000</td>\n",
       "      <td>0.076923</td>\n",
       "      <td>26</td>\n",
       "    </tr>\n",
       "    <tr>\n",
       "      <th>480</th>\n",
       "      <td>small</td>\n",
       "      <td>AIRBUS</td>\n",
       "      <td>A320</td>\n",
       "      <td>0.500000</td>\n",
       "      <td>0.018519</td>\n",
       "      <td>54</td>\n",
       "    </tr>\n",
       "    <tr>\n",
       "      <th>515</th>\n",
       "      <td>small</td>\n",
       "      <td>AVIAT</td>\n",
       "      <td>A-1B</td>\n",
       "      <td>0.142857</td>\n",
       "      <td>0.047619</td>\n",
       "      <td>21</td>\n",
       "    </tr>\n",
       "    <tr>\n",
       "      <th>541</th>\n",
       "      <td>small</td>\n",
       "      <td>AVIAT AIRCRAFT INC</td>\n",
       "      <td>A-1B</td>\n",
       "      <td>0.181818</td>\n",
       "      <td>0.000000</td>\n",
       "      <td>22</td>\n",
       "    </tr>\n",
       "    <tr>\n",
       "      <th>553</th>\n",
       "      <td>small</td>\n",
       "      <td>AYRES</td>\n",
       "      <td>S2R</td>\n",
       "      <td>0.333333</td>\n",
       "      <td>0.272727</td>\n",
       "      <td>22</td>\n",
       "    </tr>\n",
       "    <tr>\n",
       "      <th>586</th>\n",
       "      <td>small</td>\n",
       "      <td>BEECH</td>\n",
       "      <td>200</td>\n",
       "      <td>0.308201</td>\n",
       "      <td>0.250000</td>\n",
       "      <td>36</td>\n",
       "    </tr>\n",
       "    <tr>\n",
       "      <th>588</th>\n",
       "      <td>small</td>\n",
       "      <td>BEECH</td>\n",
       "      <td>23</td>\n",
       "      <td>0.284091</td>\n",
       "      <td>0.000000</td>\n",
       "      <td>22</td>\n",
       "    </tr>\n",
       "    <tr>\n",
       "      <th>592</th>\n",
       "      <td>small</td>\n",
       "      <td>BEECH</td>\n",
       "      <td>35</td>\n",
       "      <td>0.328231</td>\n",
       "      <td>0.061224</td>\n",
       "      <td>49</td>\n",
       "    </tr>\n",
       "    <tr>\n",
       "      <th>609</th>\n",
       "      <td>small</td>\n",
       "      <td>BEECH</td>\n",
       "      <td>36</td>\n",
       "      <td>0.133333</td>\n",
       "      <td>0.161290</td>\n",
       "      <td>31</td>\n",
       "    </tr>\n",
       "    <tr>\n",
       "      <th>618</th>\n",
       "      <td>small</td>\n",
       "      <td>BEECH</td>\n",
       "      <td>58</td>\n",
       "      <td>0.471759</td>\n",
       "      <td>0.194444</td>\n",
       "      <td>72</td>\n",
       "    </tr>\n",
       "  </tbody>\n",
       "</table>\n",
       "</div>"
      ],
      "text/plain": [
       "    segment                make    model  fatal_serious_rate_mean  \\\n",
       "14    large              AIRBUS     A320                 0.126694   \n",
       "73    large              BOEING      737                 0.080727   \n",
       "152   large              BOEING      767                 0.046963   \n",
       "174   large              BOEING      777                 0.000821   \n",
       "366   small             AERONCA     11AC                 0.232143   \n",
       "377   small             AERONCA      7AC                 0.275281   \n",
       "432   small         AIR TRACTOR    AT502                 0.611111   \n",
       "435   small         AIR TRACTOR    AT802                 0.475000   \n",
       "451   small     AIR TRACTOR INC   AT-301                 0.296296   \n",
       "463   small     AIR TRACTOR INC  AT-502B                 0.192308   \n",
       "464   small     AIR TRACTOR INC   AT-602                 0.500000   \n",
       "480   small              AIRBUS     A320                 0.500000   \n",
       "515   small               AVIAT     A-1B                 0.142857   \n",
       "541   small  AVIAT AIRCRAFT INC     A-1B                 0.181818   \n",
       "553   small               AYRES      S2R                 0.333333   \n",
       "586   small               BEECH      200                 0.308201   \n",
       "588   small               BEECH       23                 0.284091   \n",
       "592   small               BEECH       35                 0.328231   \n",
       "609   small               BEECH       36                 0.133333   \n",
       "618   small               BEECH       58                 0.471759   \n",
       "\n",
       "     destroyed_rate    n  \n",
       "14         0.120000   25  \n",
       "73         0.067073  164  \n",
       "152        0.032258   31  \n",
       "174        0.030303   33  \n",
       "366        0.035714   28  \n",
       "377        0.033708   89  \n",
       "432        0.243243   37  \n",
       "435        0.300000   20  \n",
       "451        0.037037   27  \n",
       "463        0.000000   26  \n",
       "464        0.076923   26  \n",
       "480        0.018519   54  \n",
       "515        0.047619   21  \n",
       "541        0.000000   22  \n",
       "553        0.272727   22  \n",
       "586        0.250000   36  \n",
       "588        0.000000   22  \n",
       "592        0.061224   49  \n",
       "609        0.161290   31  \n",
       "618        0.194444   72  "
      ]
     },
     "metadata": {},
     "output_type": "display_data"
    },
    {
     "name": "stdout",
     "output_type": "stream",
     "text": [
      "\n",
      "Recommendations — SMALL (top 5 safest models by rates):\n"
     ]
    },
    {
     "data": {
      "application/vnd.microsoft.datawrangler.viewer.v0+json": {
       "columns": [
        {
         "name": "index",
         "rawType": "int64",
         "type": "integer"
        },
        {
         "name": "segment",
         "rawType": "object",
         "type": "string"
        },
        {
         "name": "make",
         "rawType": "object",
         "type": "string"
        },
        {
         "name": "model",
         "rawType": "object",
         "type": "string"
        },
        {
         "name": "fatal_serious_rate_mean",
         "rawType": "float64",
         "type": "float"
        },
        {
         "name": "destroyed_rate",
         "rawType": "float64",
         "type": "float"
        },
        {
         "name": "n",
         "rawType": "int64",
         "type": "integer"
        }
       ],
       "ref": "b5814103-3073-4d41-b903-3d5c316280fc",
       "rows": [
        [
         "950",
         "small",
         "BOEING",
         "777",
         "0.0",
         "0.0",
         "43"
        ],
        [
         "1134",
         "small",
         "CESSNA",
         "180J",
         "0.03571428571428571",
         "0.0",
         "28"
        ],
        [
         "2131",
         "small",
         "PIPER",
         "PA-20",
         "0.04",
         "0.0",
         "25"
        ],
        [
         "1664",
         "small",
         "EVEKTOR-AEROTECHNIK AS",
         "SPORTSTAR",
         "0.047619047619047616",
         "0.0",
         "21"
        ],
        [
         "1283",
         "small",
         "CESSNA",
         "560XL",
         "0.047619047619047616",
         "0.09523809523809523",
         "21"
        ]
       ],
       "shape": {
        "columns": 6,
        "rows": 5
       }
      },
      "text/html": [
       "<div>\n",
       "<style scoped>\n",
       "    .dataframe tbody tr th:only-of-type {\n",
       "        vertical-align: middle;\n",
       "    }\n",
       "\n",
       "    .dataframe tbody tr th {\n",
       "        vertical-align: top;\n",
       "    }\n",
       "\n",
       "    .dataframe thead th {\n",
       "        text-align: right;\n",
       "    }\n",
       "</style>\n",
       "<table border=\"1\" class=\"dataframe\">\n",
       "  <thead>\n",
       "    <tr style=\"text-align: right;\">\n",
       "      <th></th>\n",
       "      <th>segment</th>\n",
       "      <th>make</th>\n",
       "      <th>model</th>\n",
       "      <th>fatal_serious_rate_mean</th>\n",
       "      <th>destroyed_rate</th>\n",
       "      <th>n</th>\n",
       "    </tr>\n",
       "  </thead>\n",
       "  <tbody>\n",
       "    <tr>\n",
       "      <th>950</th>\n",
       "      <td>small</td>\n",
       "      <td>BOEING</td>\n",
       "      <td>777</td>\n",
       "      <td>0.000000</td>\n",
       "      <td>0.000000</td>\n",
       "      <td>43</td>\n",
       "    </tr>\n",
       "    <tr>\n",
       "      <th>1134</th>\n",
       "      <td>small</td>\n",
       "      <td>CESSNA</td>\n",
       "      <td>180J</td>\n",
       "      <td>0.035714</td>\n",
       "      <td>0.000000</td>\n",
       "      <td>28</td>\n",
       "    </tr>\n",
       "    <tr>\n",
       "      <th>2131</th>\n",
       "      <td>small</td>\n",
       "      <td>PIPER</td>\n",
       "      <td>PA-20</td>\n",
       "      <td>0.040000</td>\n",
       "      <td>0.000000</td>\n",
       "      <td>25</td>\n",
       "    </tr>\n",
       "    <tr>\n",
       "      <th>1664</th>\n",
       "      <td>small</td>\n",
       "      <td>EVEKTOR-AEROTECHNIK AS</td>\n",
       "      <td>SPORTSTAR</td>\n",
       "      <td>0.047619</td>\n",
       "      <td>0.000000</td>\n",
       "      <td>21</td>\n",
       "    </tr>\n",
       "    <tr>\n",
       "      <th>1283</th>\n",
       "      <td>small</td>\n",
       "      <td>CESSNA</td>\n",
       "      <td>560XL</td>\n",
       "      <td>0.047619</td>\n",
       "      <td>0.095238</td>\n",
       "      <td>21</td>\n",
       "    </tr>\n",
       "  </tbody>\n",
       "</table>\n",
       "</div>"
      ],
      "text/plain": [
       "     segment                    make      model  fatal_serious_rate_mean  \\\n",
       "950    small                  BOEING        777                 0.000000   \n",
       "1134   small                  CESSNA       180J                 0.035714   \n",
       "2131   small                   PIPER      PA-20                 0.040000   \n",
       "1664   small  EVEKTOR-AEROTECHNIK AS  SPORTSTAR                 0.047619   \n",
       "1283   small                  CESSNA      560XL                 0.047619   \n",
       "\n",
       "      destroyed_rate   n  \n",
       "950         0.000000  43  \n",
       "1134        0.000000  28  \n",
       "2131        0.000000  25  \n",
       "1664        0.000000  21  \n",
       "1283        0.095238  21  "
      ]
     },
     "metadata": {},
     "output_type": "display_data"
    },
    {
     "name": "stdout",
     "output_type": "stream",
     "text": [
      "\n",
      "Recommendations — LARGE (top 5 safest models by rates):\n"
     ]
    },
    {
     "data": {
      "application/vnd.microsoft.datawrangler.viewer.v0+json": {
       "columns": [
        {
         "name": "index",
         "rawType": "int64",
         "type": "integer"
        },
        {
         "name": "segment",
         "rawType": "object",
         "type": "string"
        },
        {
         "name": "make",
         "rawType": "object",
         "type": "string"
        },
        {
         "name": "model",
         "rawType": "object",
         "type": "string"
        },
        {
         "name": "fatal_serious_rate_mean",
         "rawType": "float64",
         "type": "float"
        },
        {
         "name": "destroyed_rate",
         "rawType": "float64",
         "type": "float"
        },
        {
         "name": "n",
         "rawType": "int64",
         "type": "integer"
        }
       ],
       "ref": "d8fda89e-2858-48e3-be4e-8919c6361195",
       "rows": [
        [
         "174",
         "large",
         "BOEING",
         "777",
         "0.0008209861938249787",
         "0.030303030303030304",
         "33"
        ],
        [
         "152",
         "large",
         "BOEING",
         "767",
         "0.046962599616317276",
         "0.03225806451612903",
         "31"
        ],
        [
         "73",
         "large",
         "BOEING",
         "737",
         "0.08072732401868514",
         "0.06707317073170732",
         "164"
        ],
        [
         "14",
         "large",
         "AIRBUS",
         "A320",
         "0.12669398861259326",
         "0.12",
         "25"
        ]
       ],
       "shape": {
        "columns": 6,
        "rows": 4
       }
      },
      "text/html": [
       "<div>\n",
       "<style scoped>\n",
       "    .dataframe tbody tr th:only-of-type {\n",
       "        vertical-align: middle;\n",
       "    }\n",
       "\n",
       "    .dataframe tbody tr th {\n",
       "        vertical-align: top;\n",
       "    }\n",
       "\n",
       "    .dataframe thead th {\n",
       "        text-align: right;\n",
       "    }\n",
       "</style>\n",
       "<table border=\"1\" class=\"dataframe\">\n",
       "  <thead>\n",
       "    <tr style=\"text-align: right;\">\n",
       "      <th></th>\n",
       "      <th>segment</th>\n",
       "      <th>make</th>\n",
       "      <th>model</th>\n",
       "      <th>fatal_serious_rate_mean</th>\n",
       "      <th>destroyed_rate</th>\n",
       "      <th>n</th>\n",
       "    </tr>\n",
       "  </thead>\n",
       "  <tbody>\n",
       "    <tr>\n",
       "      <th>174</th>\n",
       "      <td>large</td>\n",
       "      <td>BOEING</td>\n",
       "      <td>777</td>\n",
       "      <td>0.000821</td>\n",
       "      <td>0.030303</td>\n",
       "      <td>33</td>\n",
       "    </tr>\n",
       "    <tr>\n",
       "      <th>152</th>\n",
       "      <td>large</td>\n",
       "      <td>BOEING</td>\n",
       "      <td>767</td>\n",
       "      <td>0.046963</td>\n",
       "      <td>0.032258</td>\n",
       "      <td>31</td>\n",
       "    </tr>\n",
       "    <tr>\n",
       "      <th>73</th>\n",
       "      <td>large</td>\n",
       "      <td>BOEING</td>\n",
       "      <td>737</td>\n",
       "      <td>0.080727</td>\n",
       "      <td>0.067073</td>\n",
       "      <td>164</td>\n",
       "    </tr>\n",
       "    <tr>\n",
       "      <th>14</th>\n",
       "      <td>large</td>\n",
       "      <td>AIRBUS</td>\n",
       "      <td>A320</td>\n",
       "      <td>0.126694</td>\n",
       "      <td>0.120000</td>\n",
       "      <td>25</td>\n",
       "    </tr>\n",
       "  </tbody>\n",
       "</table>\n",
       "</div>"
      ],
      "text/plain": [
       "    segment    make model  fatal_serious_rate_mean  destroyed_rate    n\n",
       "174   large  BOEING   777                 0.000821        0.030303   33\n",
       "152   large  BOEING   767                 0.046963        0.032258   31\n",
       "73    large  BOEING   737                 0.080727        0.067073  164\n",
       "14    large  AIRBUS  A320                 0.126694        0.120000   25"
      ]
     },
     "metadata": {},
     "output_type": "display_data"
    }
   ],
   "source": [
    "# ---- Segment into small (<20 people) vs large (>=20) and summarize by make/model ----\n",
    "import numpy as np\n",
    "import pandas as pd\n",
    "\n",
    "# 1) Segment function (primary: injuries_total; fallback: engine_type / number_of_engines)\n",
    "def assign_segment(row):\n",
    "    total = row.get(\"injuries_total\", np.nan)\n",
    "    if pd.notna(total):\n",
    "        return \"large\" if total >= 20 else \"small\"\n",
    "    et = str(row.get(\"engine_type\", \"\")).upper()\n",
    "    noe = pd.to_numeric(row.get(\"number_of_engines\", np.nan), errors=\"coerce\")\n",
    "    if et in {\"TURBOFAN\", \"JET\"} or (pd.notna(noe) and noe >= 2):\n",
    "        return \"large\"\n",
    "    if et in {\"PISTON\", \"TURBOPROP\"} or (pd.notna(noe) and noe == 1):\n",
    "        return \"small\"\n",
    "    return pd.NA\n",
    "\n",
    "df[\"segment\"] = df.apply(assign_segment, axis=1)\n",
    "print(\"Segment counts:\\n\", df[\"segment\"].value_counts(dropna=False), \"\\n\")\n",
    "\n",
    "# 2) Helper to summarize groups using split-apply-combine\n",
    "def summarize_by(df, keys, min_n=20):\n",
    "    if isinstance(keys, str):\n",
    "        keys = [keys]\n",
    "    have = set(df.columns)\n",
    "    agg = {}\n",
    "    if \"fatal_event\" in have:\n",
    "        agg[\"fatal_event_rate\"] = (\"fatal_event\", \"mean\")\n",
    "    if \"fatal_serious_rate\" in have:\n",
    "        agg[\"fatal_serious_rate_mean\"] = (\"fatal_serious_rate\", \"mean\")\n",
    "    if \"destroyed\" in have:\n",
    "        agg[\"destroyed_rate\"] = (\"destroyed\", \"mean\")\n",
    "    # size column\n",
    "    base_count_col = \"fatal_event\" if \"fatal_event\" in have else (\"destroyed\" if \"destroyed\" in have else keys[0])\n",
    "    agg[\"n\"] = (base_count_col, \"size\")\n",
    "    g = df.groupby(keys, dropna=False).agg(**agg).reset_index()\n",
    "    return g[g[\"n\"] >= min_n]\n",
    "\n",
    "# 3) Summaries by MAKE and by (MAKE, MODEL) for each segment\n",
    "by_make   = summarize_by(df.dropna(subset=[\"make\"]), [\"segment\", \"make\"], min_n=20)\n",
    "by_model  = summarize_by(df.dropna(subset=[\"make\",\"model\"]), [\"segment\", \"make\", \"model\"], min_n=20)\n",
    "\n",
    "print(\"Make-level summary (first 20 rows):\")\n",
    "display(by_make.head(20))\n",
    "\n",
    "print(\"Model-level summary (first 20 rows):\")\n",
    "display(by_model.head(20))\n",
    "\n",
    "# 4) Quick recommendations: lowest severity per segment (change k if needed)\n",
    "def recommend(g, segment, k=5):\n",
    "    sub = g[g[\"segment\"] == segment].copy()\n",
    "    metric = \"fatal_serious_rate_mean\" if \"fatal_serious_rate_mean\" in sub.columns else (\n",
    "             \"fatal_event_rate\" if \"fatal_event_rate\" in sub.columns else \"destroyed_rate\")\n",
    "    sort_cols = [metric] + ([\"destroyed_rate\"] if \"destroyed_rate\" in sub.columns else [])\n",
    "    return sub.sort_values(sort_cols).head(k)\n",
    "\n",
    "print(\"\\nRecommendations — SMALL (top 5 safest models by rates):\")\n",
    "display(recommend(by_model, \"small\", k=5))\n",
    "\n",
    "print(\"\\nRecommendations — LARGE (top 5 safest models by rates):\")\n",
    "display(recommend(by_model, \"large\", k=5))\n"
   ]
  },
  {
   "cell_type": "markdown",
   "id": "725c7e50",
   "metadata": {},
   "source": [
    "#### Analyzing Makes\n",
    "\n",
    "Explore the human injury risk profile for small and larger Makes:\n",
    "- choose the 15 makes for each group possessing the lowest mean fatal/seriously injured fraction\n",
    "- plot the mean fatal/seriously injured fraction for each of these subgroups side-by-side"
   ]
  },
  {
   "cell_type": "code",
   "execution_count": 4,
   "id": "0417acc2",
   "metadata": {},
   "outputs": [
    {
     "data": {
      "application/vnd.microsoft.datawrangler.viewer.v0+json": {
       "columns": [
        {
         "name": "index",
         "rawType": "int64",
         "type": "integer"
        },
        {
         "name": "segment",
         "rawType": "object",
         "type": "string"
        },
        {
         "name": "make",
         "rawType": "object",
         "type": "string"
        },
        {
         "name": "n",
         "rawType": "int64",
         "type": "integer"
        },
        {
         "name": "mean_fsr",
         "rawType": "float64",
         "type": "float"
        }
       ],
       "ref": "401632a6-dff1-4f76-942f-24fea330d3b2",
       "rows": [
        [
         "55",
         "small",
         "MCDONNELL DOUGLAS",
         "49",
         "0.09404761904761903"
        ],
        [
         "45",
         "small",
         "EVEKTOR-AEROTECHNIK AS",
         "30",
         "0.1"
        ],
        [
         "31",
         "small",
         "BOMBARDIER",
         "29",
         "0.10384615384615385"
        ],
        [
         "70",
         "small",
         "WACO",
         "41",
         "0.13821138211382114"
        ],
        [
         "30",
         "small",
         "BOEING",
         "695",
         "0.1414526560130956"
        ],
        [
         "25",
         "small",
         "AVIAT AIRCRAFT INC",
         "76",
         "0.16447368421052633"
        ],
        [
         "54",
         "small",
         "MAULE",
         "215",
         "0.16480620155038758"
        ],
        [
         "49",
         "small",
         "GRUMMAN ACFT ENG COR-SCHWEIZER",
         "58",
         "0.20689655172413793"
        ],
        [
         "26",
         "small",
         "AYRES",
         "52",
         "0.21568627450980393"
        ],
        [
         "66",
         "small",
         "STINSON",
         "129",
         "0.21640826873385013"
        ],
        [
         "24",
         "small",
         "AVIAT",
         "70",
         "0.22142857142857142"
        ],
        [
         "29",
         "small",
         "BELLANCA",
         "220",
         "0.2215909090909091"
        ],
        [
         "41",
         "small",
         "DIAMOND AIRCRAFT IND INC",
         "74",
         "0.22297297297297297"
        ],
        [
         "64",
         "small",
         "ROCKWELL INTERNATIONAL",
         "58",
         "0.2236842105263158"
        ],
        [
         "18",
         "small",
         "AERONCA",
         "200",
         "0.22583333333333333"
        ]
       ],
       "shape": {
        "columns": 4,
        "rows": 15
       }
      },
      "text/html": [
       "<div>\n",
       "<style scoped>\n",
       "    .dataframe tbody tr th:only-of-type {\n",
       "        vertical-align: middle;\n",
       "    }\n",
       "\n",
       "    .dataframe tbody tr th {\n",
       "        vertical-align: top;\n",
       "    }\n",
       "\n",
       "    .dataframe thead th {\n",
       "        text-align: right;\n",
       "    }\n",
       "</style>\n",
       "<table border=\"1\" class=\"dataframe\">\n",
       "  <thead>\n",
       "    <tr style=\"text-align: right;\">\n",
       "      <th></th>\n",
       "      <th>segment</th>\n",
       "      <th>make</th>\n",
       "      <th>n</th>\n",
       "      <th>mean_fsr</th>\n",
       "    </tr>\n",
       "  </thead>\n",
       "  <tbody>\n",
       "    <tr>\n",
       "      <th>55</th>\n",
       "      <td>small</td>\n",
       "      <td>MCDONNELL DOUGLAS</td>\n",
       "      <td>49</td>\n",
       "      <td>0.094048</td>\n",
       "    </tr>\n",
       "    <tr>\n",
       "      <th>45</th>\n",
       "      <td>small</td>\n",
       "      <td>EVEKTOR-AEROTECHNIK AS</td>\n",
       "      <td>30</td>\n",
       "      <td>0.100000</td>\n",
       "    </tr>\n",
       "    <tr>\n",
       "      <th>31</th>\n",
       "      <td>small</td>\n",
       "      <td>BOMBARDIER</td>\n",
       "      <td>29</td>\n",
       "      <td>0.103846</td>\n",
       "    </tr>\n",
       "    <tr>\n",
       "      <th>70</th>\n",
       "      <td>small</td>\n",
       "      <td>WACO</td>\n",
       "      <td>41</td>\n",
       "      <td>0.138211</td>\n",
       "    </tr>\n",
       "    <tr>\n",
       "      <th>30</th>\n",
       "      <td>small</td>\n",
       "      <td>BOEING</td>\n",
       "      <td>695</td>\n",
       "      <td>0.141453</td>\n",
       "    </tr>\n",
       "    <tr>\n",
       "      <th>25</th>\n",
       "      <td>small</td>\n",
       "      <td>AVIAT AIRCRAFT INC</td>\n",
       "      <td>76</td>\n",
       "      <td>0.164474</td>\n",
       "    </tr>\n",
       "    <tr>\n",
       "      <th>54</th>\n",
       "      <td>small</td>\n",
       "      <td>MAULE</td>\n",
       "      <td>215</td>\n",
       "      <td>0.164806</td>\n",
       "    </tr>\n",
       "    <tr>\n",
       "      <th>49</th>\n",
       "      <td>small</td>\n",
       "      <td>GRUMMAN ACFT ENG COR-SCHWEIZER</td>\n",
       "      <td>58</td>\n",
       "      <td>0.206897</td>\n",
       "    </tr>\n",
       "    <tr>\n",
       "      <th>26</th>\n",
       "      <td>small</td>\n",
       "      <td>AYRES</td>\n",
       "      <td>52</td>\n",
       "      <td>0.215686</td>\n",
       "    </tr>\n",
       "    <tr>\n",
       "      <th>66</th>\n",
       "      <td>small</td>\n",
       "      <td>STINSON</td>\n",
       "      <td>129</td>\n",
       "      <td>0.216408</td>\n",
       "    </tr>\n",
       "    <tr>\n",
       "      <th>24</th>\n",
       "      <td>small</td>\n",
       "      <td>AVIAT</td>\n",
       "      <td>70</td>\n",
       "      <td>0.221429</td>\n",
       "    </tr>\n",
       "    <tr>\n",
       "      <th>29</th>\n",
       "      <td>small</td>\n",
       "      <td>BELLANCA</td>\n",
       "      <td>220</td>\n",
       "      <td>0.221591</td>\n",
       "    </tr>\n",
       "    <tr>\n",
       "      <th>41</th>\n",
       "      <td>small</td>\n",
       "      <td>DIAMOND AIRCRAFT IND INC</td>\n",
       "      <td>74</td>\n",
       "      <td>0.222973</td>\n",
       "    </tr>\n",
       "    <tr>\n",
       "      <th>64</th>\n",
       "      <td>small</td>\n",
       "      <td>ROCKWELL INTERNATIONAL</td>\n",
       "      <td>58</td>\n",
       "      <td>0.223684</td>\n",
       "    </tr>\n",
       "    <tr>\n",
       "      <th>18</th>\n",
       "      <td>small</td>\n",
       "      <td>AERONCA</td>\n",
       "      <td>200</td>\n",
       "      <td>0.225833</td>\n",
       "    </tr>\n",
       "  </tbody>\n",
       "</table>\n",
       "</div>"
      ],
      "text/plain": [
       "   segment                            make    n  mean_fsr\n",
       "55   small               MCDONNELL DOUGLAS   49  0.094048\n",
       "45   small          EVEKTOR-AEROTECHNIK AS   30  0.100000\n",
       "31   small                      BOMBARDIER   29  0.103846\n",
       "70   small                            WACO   41  0.138211\n",
       "30   small                          BOEING  695  0.141453\n",
       "25   small              AVIAT AIRCRAFT INC   76  0.164474\n",
       "54   small                           MAULE  215  0.164806\n",
       "49   small  GRUMMAN ACFT ENG COR-SCHWEIZER   58  0.206897\n",
       "26   small                           AYRES   52  0.215686\n",
       "66   small                         STINSON  129  0.216408\n",
       "24   small                           AVIAT   70  0.221429\n",
       "29   small                        BELLANCA  220  0.221591\n",
       "41   small        DIAMOND AIRCRAFT IND INC   74  0.222973\n",
       "64   small          ROCKWELL INTERNATIONAL   58  0.223684\n",
       "18   small                         AERONCA  200  0.225833"
      ]
     },
     "metadata": {},
     "output_type": "display_data"
    },
    {
     "data": {
      "application/vnd.microsoft.datawrangler.viewer.v0+json": {
       "columns": [
        {
         "name": "index",
         "rawType": "int64",
         "type": "integer"
        },
        {
         "name": "segment",
         "rawType": "object",
         "type": "string"
        },
        {
         "name": "make",
         "rawType": "object",
         "type": "string"
        },
        {
         "name": "n",
         "rawType": "int64",
         "type": "integer"
        },
        {
         "name": "mean_fsr",
         "rawType": "float64",
         "type": "float"
        }
       ],
       "ref": "a07d8f62-133f-4257-87f2-6407bd4a66ce",
       "rows": [
        [
         "14",
         "large",
         "MCDONNELL DOUGLAS",
         "53",
         "0.007827057000335367"
        ],
        [
         "5",
         "large",
         "BOMBARDIER INC",
         "44",
         "0.028037696787696787"
        ],
        [
         "3",
         "large",
         "BOEING",
         "555",
         "0.05817348865263541"
        ],
        [
         "10",
         "large",
         "EMBRAER",
         "78",
         "0.06527401992319853"
        ],
        [
         "1",
         "large",
         "AIRBUS INDUSTRIE",
         "35",
         "0.0678747436435787"
        ],
        [
         "0",
         "large",
         "AIRBUS",
         "121",
         "0.08552375023815985"
        ]
       ],
       "shape": {
        "columns": 4,
        "rows": 6
       }
      },
      "text/html": [
       "<div>\n",
       "<style scoped>\n",
       "    .dataframe tbody tr th:only-of-type {\n",
       "        vertical-align: middle;\n",
       "    }\n",
       "\n",
       "    .dataframe tbody tr th {\n",
       "        vertical-align: top;\n",
       "    }\n",
       "\n",
       "    .dataframe thead th {\n",
       "        text-align: right;\n",
       "    }\n",
       "</style>\n",
       "<table border=\"1\" class=\"dataframe\">\n",
       "  <thead>\n",
       "    <tr style=\"text-align: right;\">\n",
       "      <th></th>\n",
       "      <th>segment</th>\n",
       "      <th>make</th>\n",
       "      <th>n</th>\n",
       "      <th>mean_fsr</th>\n",
       "    </tr>\n",
       "  </thead>\n",
       "  <tbody>\n",
       "    <tr>\n",
       "      <th>14</th>\n",
       "      <td>large</td>\n",
       "      <td>MCDONNELL DOUGLAS</td>\n",
       "      <td>53</td>\n",
       "      <td>0.007827</td>\n",
       "    </tr>\n",
       "    <tr>\n",
       "      <th>5</th>\n",
       "      <td>large</td>\n",
       "      <td>BOMBARDIER INC</td>\n",
       "      <td>44</td>\n",
       "      <td>0.028038</td>\n",
       "    </tr>\n",
       "    <tr>\n",
       "      <th>3</th>\n",
       "      <td>large</td>\n",
       "      <td>BOEING</td>\n",
       "      <td>555</td>\n",
       "      <td>0.058173</td>\n",
       "    </tr>\n",
       "    <tr>\n",
       "      <th>10</th>\n",
       "      <td>large</td>\n",
       "      <td>EMBRAER</td>\n",
       "      <td>78</td>\n",
       "      <td>0.065274</td>\n",
       "    </tr>\n",
       "    <tr>\n",
       "      <th>1</th>\n",
       "      <td>large</td>\n",
       "      <td>AIRBUS INDUSTRIE</td>\n",
       "      <td>35</td>\n",
       "      <td>0.067875</td>\n",
       "    </tr>\n",
       "    <tr>\n",
       "      <th>0</th>\n",
       "      <td>large</td>\n",
       "      <td>AIRBUS</td>\n",
       "      <td>121</td>\n",
       "      <td>0.085524</td>\n",
       "    </tr>\n",
       "  </tbody>\n",
       "</table>\n",
       "</div>"
      ],
      "text/plain": [
       "   segment               make    n  mean_fsr\n",
       "14   large  MCDONNELL DOUGLAS   53  0.007827\n",
       "5    large     BOMBARDIER INC   44  0.028038\n",
       "3    large             BOEING  555  0.058173\n",
       "10   large            EMBRAER   78  0.065274\n",
       "1    large   AIRBUS INDUSTRIE   35  0.067875\n",
       "0    large             AIRBUS  121  0.085524"
      ]
     },
     "metadata": {},
     "output_type": "display_data"
    },
    {
     "data": {
      "image/png": "[encoded data removed]",
      "text/plain": [
       "<Figure size 1400x800 with 2 Axes>"
      ]
     },
     "metadata": {},
     "output_type": "display_data"
    }
   ],
   "source": [
    "# --- Analyze Makes: 15 safest (lowest mean fatal/serious fraction) per segment ---\n",
    "\n",
    "import numpy as np\n",
    "import pandas as pd\n",
    "import matplotlib.pyplot as plt\n",
    "\n",
    "# 1) Ensure segment exists (20-person threshold; fallback on engine info)\n",
    "if \"segment\" not in df.columns:\n",
    "    def assign_segment(row):\n",
    "        total = row.get(\"injuries_total\", np.nan)\n",
    "        if pd.notna(total):\n",
    "            return \"large\" if total >= 20 else \"small\"\n",
    "        et = str(row.get(\"engine_type\", \"\")).upper()\n",
    "        noe = pd.to_numeric(row.get(\"number_of_engines\", np.nan), errors=\"coerce\")\n",
    "        if et in {\"TURBOFAN\", \"JET\"} or (pd.notna(noe) and noe >= 2):\n",
    "            return \"large\"\n",
    "        if et in {\"PISTON\", \"TURBOPROP\"} or (pd.notna(noe) and noe == 1):\n",
    "            return \"small\"\n",
    "        return np.nan\n",
    "    df[\"segment\"] = df.apply(assign_segment, axis=1)\n",
    "\n",
    "# 2) Ensure fatal_serious_rate exists\n",
    "if \"fatal_serious_rate\" not in df.columns and {\"injuries_fatal\",\"injuries_serious\",\"injuries_total\"}.issubset(df.columns):\n",
    "    df[\"fatal_serious_injuries\"] = df[\"injuries_fatal\"].fillna(0) + df[\"injuries_serious\"].fillna(0)\n",
    "    df[\"fatal_serious_rate\"] = df[\"fatal_serious_injuries\"] / df[\"injuries_total\"].replace(0, np.nan)\n",
    "\n",
    "# 3) Group by make within segment (split–apply–combine)\n",
    "min_n = 25  # tweak if needed\n",
    "cnt_col = \"fatal_event\" if \"fatal_event\" in df.columns else (\"destroyed\" if \"destroyed\" in df.columns else \"fatal_serious_rate\")\n",
    "\n",
    "by_make = (df.dropna(subset=[\"make\"])\n",
    "             .groupby([\"segment\",\"make\"], dropna=False)\n",
    "             .agg(n=(cnt_col, \"size\"),\n",
    "                  mean_fsr=(\"fatal_serious_rate\", \"mean\"))\n",
    "             .dropna(subset=[\"mean_fsr\"])\n",
    "             .reset_index())\n",
    "\n",
    "# 4) Pick 15 lowest-mean makes per segment (with sample-size filter)\n",
    "small_top = (by_make.query(\"segment == 'small' and n >= @min_n\")\n",
    "                     .sort_values(\"mean_fsr\", ascending=True)\n",
    "                     .head(15))\n",
    "large_top = (by_make.query(\"segment == 'large' and n >= @min_n\")\n",
    "                     .sort_values(\"mean_fsr\", ascending=True)\n",
    "                     .head(15))\n",
    "\n",
    "display(small_top, large_top)\n",
    "\n",
    "# 5) Plot side-by-side (horizontal bars)\n",
    "fig, axes = plt.subplots(1, 2, figsize=(14, 8), sharex=False)\n",
    "\n",
    "s = small_top.sort_values(\"mean_fsr\", ascending=True)\n",
    "axes[0].barh(s[\"make\"], s[\"mean_fsr\"])\n",
    "axes[0].set_title(\"Small makes: lowest mean fatal/serious fraction (n ≥ %d)\" % min_n)\n",
    "axes[0].set_xlabel(\"Mean fatal/serious fraction\")\n",
    "axes[0].invert_yaxis()\n",
    "\n",
    "l = large_top.sort_values(\"mean_fsr\", ascending=True)\n",
    "axes[1].barh(l[\"make\"], l[\"mean_fsr\"])\n",
    "axes[1].set_title(\"Large makes: lowest mean fatal/serious fraction (n ≥ %d)\" % min_n)\n",
    "axes[1].set_xlabel(\"Mean fatal/serious fraction\")\n",
    "axes[1].invert_yaxis()\n",
    "\n",
    "plt.tight_layout()\n",
    "plt.show()\n"
   ]
  },
  {
   "cell_type": "markdown",
   "id": "2e09b89e",
   "metadata": {},
   "source": [
    "**Distribution of injury rates: small makes**\n",
    "\n",
    "Use a violinplot to look at the distribution of the fraction of passengers serious/fatally injured for small airplane makes. Just display makes with the ten lowest mean serious/fatal injury rates."
   ]
  },
  {
   "cell_type": "code",
   "execution_count": 5,
   "id": "835fcc26",
   "metadata": {},
   "outputs": [
    {
     "name": "stderr",
     "output_type": "stream",
     "text": [
      "/var/folders/wg/j89dzhfn1z17b36_t8g6rcjr0000gn/T/ipykernel_89986/1885770962.py:44: FutureWarning: \n",
      "\n",
      "The `scale` parameter has been renamed and will be removed in v0.15.0. Pass `density_norm='width'` for the same effect.\n",
      "  sns.violinplot(\n"
     ]
    },
    {
     "data": {
      "image/png": "[encoded data removed]",
      "text/plain": [
       "<Figure size 1200x700 with 1 Axes>"
      ]
     },
     "metadata": {},
     "output_type": "display_data"
    }
   ],
   "source": [
    "# Small makes — violinplot of fatal/serious injury fraction (10 lowest means)\n",
    "\n",
    "import numpy as np\n",
    "import pandas as pd\n",
    "import seaborn as sns\n",
    "import matplotlib.pyplot as plt\n",
    "\n",
    "# Ensure fatal_serious_rate exists\n",
    "if \"fatal_serious_rate\" not in df.columns and {\"injuries_fatal\",\"injuries_serious\",\"injuries_total\"}.issubset(df.columns):\n",
    "    df[\"fatal_serious_injuries\"] = df[\"injuries_fatal\"].fillna(0) + df[\"injuries_serious\"].fillna(0)\n",
    "    df[\"fatal_serious_rate\"] = df[\"fatal_serious_injuries\"] / df[\"injuries_total\"].replace(0, np.nan)\n",
    "\n",
    "# Build segment (threshold: 20 people)\n",
    "if \"segment\" not in df.columns:\n",
    "    def assign_segment(row):\n",
    "        total = row.get(\"injuries_total\", np.nan)\n",
    "        if pd.notna(total):\n",
    "            return \"large\" if total >= 20 else \"small\"\n",
    "        et = str(row.get(\"engine_type\",\"\")).upper()\n",
    "        noe = pd.to_numeric(row.get(\"number_of_engines\", np.nan), errors=\"coerce\")\n",
    "        if et in {\"TURBOFAN\",\"JET\"} or (pd.notna(noe) and noe >= 2): return \"large\"\n",
    "        if et in {\"PISTON\",\"TURBOPROP\"} or (pd.notna(noe) and noe == 1): return \"small\"\n",
    "        return np.nan\n",
    "    df[\"segment\"] = df.apply(assign_segment, axis=1)\n",
    "\n",
    "# Filter to small-segment events with valid rates\n",
    "small = df[(df[\"segment\"] == \"small\") & df[\"fatal_serious_rate\"].notna()].copy()\n",
    "\n",
    "# Pick the 10 makes with the lowest mean fatal/serious rate (optionally require min_n per make)\n",
    "min_n = 20\n",
    "by_make = (small.dropna(subset=[\"make\"])\n",
    "                 .groupby(\"make\", dropna=False)\n",
    "                 .agg(mean_fsr=(\"fatal_serious_rate\",\"mean\"),\n",
    "                      n=(\"fatal_serious_rate\",\"size\"))\n",
    "                 .query(\"n >= @min_n\")\n",
    "                 .reset_index())\n",
    "\n",
    "top10 = by_make.nsmallest(10, \"mean_fsr\")\n",
    "order = top10.sort_values(\"mean_fsr\")[\"make\"].tolist()\n",
    "\n",
    "# Violinplot\n",
    "plot_df = small[small[\"make\"].isin(order)]\n",
    "plt.figure(figsize=(12, 7))\n",
    "sns.violinplot(\n",
    "    data=plot_df,\n",
    "    x=\"fatal_serious_rate\",\n",
    "    y=\"make\",\n",
    "    order=order,\n",
    "    cut=0,\n",
    "    inner=\"quartile\",\n",
    "    scale=\"width\"\n",
    ")\n",
    "plt.title(f\"Small makes — distribution of fatal/serious fraction\\n(10 lowest means, n ≥ {min_n} per make)\")\n",
    "plt.xlabel(\"Fatal/serious injured fraction\")\n",
    "plt.ylabel(\"Make\")\n",
    "plt.tight_layout()\n",
    "plt.show()\n",
    "\n"
   ]
  },
  {
   "cell_type": "markdown",
   "id": "dba86877",
   "metadata": {},
   "source": [
    "**Distribution of injury rates: large makes**\n",
    "\n",
    "Use a stripplot to look at the distribution of the fraction of passengers serious/fatally injured for large airplane makes. Just display makes with the ten lowest mean serious/fatal injury rates."
   ]
  },
  {
   "cell_type": "code",
   "execution_count": 6,
   "id": "bd247956",
   "metadata": {},
   "outputs": [
    {
     "data": {
      "image/png": "[encoded data removed]",
      "text/plain": [
       "<Figure size 1200x700 with 1 Axes>"
      ]
     },
     "metadata": {},
     "output_type": "display_data"
    }
   ],
   "source": [
    "# Large makes — stripplot of fatal/serious injury fraction (10 lowest means)\n",
    "\n",
    "import numpy as np\n",
    "import pandas as pd\n",
    "import seaborn as sns\n",
    "import matplotlib.pyplot as plt\n",
    "\n",
    "# Ensure fatal_serious_rate exists\n",
    "if \"fatal_serious_rate\" not in df.columns and {\"injuries_fatal\",\"injuries_serious\",\"injuries_total\"}.issubset(df.columns):\n",
    "    df[\"fatal_serious_injuries\"] = df[\"injuries_fatal\"].fillna(0) + df[\"injuries_serious\"].fillna(0)\n",
    "    df[\"fatal_serious_rate\"] = df[\"fatal_serious_injuries\"] / df[\"injuries_total\"].replace(0, np.nan)\n",
    "\n",
    "# Build segment (threshold: 20 people)\n",
    "if \"segment\" not in df.columns:\n",
    "    def assign_segment(row):\n",
    "        total = row.get(\"injuries_total\", np.nan)\n",
    "        if pd.notna(total):\n",
    "            return \"large\" if total >= 20 else \"small\"\n",
    "        et = str(row.get(\"engine_type\",\"\")).upper()\n",
    "        noe = pd.to_numeric(row.get(\"number_of_engines\", np.nan), errors=\"coerce\")\n",
    "        if et in {\"TURBOFAN\",\"JET\"} or (pd.notna(noe) and noe >= 2): return \"large\"\n",
    "        if et in {\"PISTON\",\"TURBOPROP\"} or (pd.notna(noe) and noe == 1): return \"small\"\n",
    "        return np.nan\n",
    "    df[\"segment\"] = df.apply(assign_segment, axis=1)\n",
    "\n",
    "# Filter to large-segment events with valid rates\n",
    "large = df[(df[\"segment\"] == \"large\") & df[\"fatal_serious_rate\"].notna()].copy()\n",
    "\n",
    "# Pick the 10 makes with the lowest mean fatal/serious rate (enforce a minimum sample size)\n",
    "min_n = 20\n",
    "by_make = (large.dropna(subset=[\"make\"])\n",
    "                 .groupby(\"make\", dropna=False)\n",
    "                 .agg(mean_fsr=(\"fatal_serious_rate\",\"mean\"),\n",
    "                      n=(\"fatal_serious_rate\",\"size\"))\n",
    "                 .query(\"n >= @min_n\")\n",
    "                 .reset_index())\n",
    "\n",
    "top10 = by_make.nsmallest(10, \"mean_fsr\")\n",
    "order = top10.sort_values(\"mean_fsr\")[\"make\"].tolist()\n",
    "\n",
    "# Stripplot\n",
    "plot_df = large[large[\"make\"].isin(order)]\n",
    "plt.figure(figsize=(12, 7))\n",
    "sns.stripplot(\n",
    "    data=plot_df,\n",
    "    x=\"fatal_serious_rate\",\n",
    "    y=\"make\",\n",
    "    order=order,\n",
    "    jitter=True,\n",
    "    alpha=0.7\n",
    ")\n",
    "plt.title(f\"Large makes — distribution of fatal/serious fraction\\n(10 lowest means, n ≥ {min_n} per make)\")\n",
    "plt.xlabel(\"Fatal/serious injured fraction\")\n",
    "plt.ylabel(\"Make\")\n",
    "plt.tight_layout()\n",
    "plt.show()\n"
   ]
  },
  {
   "cell_type": "markdown",
   "id": "eaeab462",
   "metadata": {},
   "source": [
    "**Evaluate the rate of aircraft destruction for both small and large aircraft by Make.** \n",
    "\n",
    "Sort your results and keep the lowest 15."
   ]
  },
  {
   "cell_type": "code",
   "execution_count": 7,
   "id": "e105e04c",
   "metadata": {},
   "outputs": [
    {
     "name": "stdout",
     "output_type": "stream",
     "text": [
      "Small aircraft — 15 lowest destruction rates:\n"
     ]
    },
    {
     "data": {
      "application/vnd.microsoft.datawrangler.viewer.v0+json": {
       "columns": [
        {
         "name": "index",
         "rawType": "int64",
         "type": "integer"
        },
        {
         "name": "segment",
         "rawType": "object",
         "type": "string"
        },
        {
         "name": "make",
         "rawType": "object",
         "type": "string"
        },
        {
         "name": "n",
         "rawType": "int64",
         "type": "integer"
        },
        {
         "name": "destroyed_rate",
         "rawType": "float64",
         "type": "float"
        }
       ],
       "ref": "a41edbbb-6580-46f6-9940-cb441e2d712e",
       "rows": [
        [
         "0",
         "small",
         "EVEKTOR-AEROTECHNIK AS",
         "30",
         "0.0"
        ],
        [
         "1",
         "small",
         "LUSCOMBE",
         "141",
         "0.014184397163120567"
        ],
        [
         "2",
         "small",
         "GRUMMAN ACFT ENG COR-SCHWEIZER",
         "58",
         "0.017241379310344827"
        ],
        [
         "3",
         "small",
         "STINSON",
         "129",
         "0.023255813953488372"
        ],
        [
         "4",
         "small",
         "AIRBUS",
         "124",
         "0.024193548387096774"
        ],
        [
         "5",
         "small",
         "WACO",
         "41",
         "0.024390243902439025"
        ],
        [
         "6",
         "small",
         "COSTRUZIONI AERONAUTICHE TECNA",
         "33",
         "0.030303030303030304"
        ],
        [
         "7",
         "small",
         "TAYLORCRAFT",
         "93",
         "0.03225806451612903"
        ],
        [
         "8",
         "small",
         "BOMBARDIER",
         "29",
         "0.034482758620689655"
        ],
        [
         "9",
         "small",
         "AERONCA",
         "200",
         "0.035"
        ],
        [
         "10",
         "small",
         "BOEING",
         "695",
         "0.03597122302158273"
        ],
        [
         "11",
         "small",
         "ERCOUPE",
         "52",
         "0.038461538461538464"
        ],
        [
         "12",
         "small",
         "AMERICAN CHAMPION AIRCRAFT",
         "52",
         "0.038461538461538464"
        ],
        [
         "13",
         "small",
         "AVIAT AIRCRAFT INC",
         "76",
         "0.039473684210526314"
        ],
        [
         "14",
         "small",
         "MAULE",
         "215",
         "0.04186046511627907"
        ]
       ],
       "shape": {
        "columns": 4,
        "rows": 15
       }
      },
      "text/html": [
       "<div>\n",
       "<style scoped>\n",
       "    .dataframe tbody tr th:only-of-type {\n",
       "        vertical-align: middle;\n",
       "    }\n",
       "\n",
       "    .dataframe tbody tr th {\n",
       "        vertical-align: top;\n",
       "    }\n",
       "\n",
       "    .dataframe thead th {\n",
       "        text-align: right;\n",
       "    }\n",
       "</style>\n",
       "<table border=\"1\" class=\"dataframe\">\n",
       "  <thead>\n",
       "    <tr style=\"text-align: right;\">\n",
       "      <th></th>\n",
       "      <th>segment</th>\n",
       "      <th>make</th>\n",
       "      <th>n</th>\n",
       "      <th>destroyed_rate</th>\n",
       "    </tr>\n",
       "  </thead>\n",
       "  <tbody>\n",
       "    <tr>\n",
       "      <th>0</th>\n",
       "      <td>small</td>\n",
       "      <td>EVEKTOR-AEROTECHNIK AS</td>\n",
       "      <td>30</td>\n",
       "      <td>0.000000</td>\n",
       "    </tr>\n",
       "    <tr>\n",
       "      <th>1</th>\n",
       "      <td>small</td>\n",
       "      <td>LUSCOMBE</td>\n",
       "      <td>141</td>\n",
       "      <td>0.014184</td>\n",
       "    </tr>\n",
       "    <tr>\n",
       "      <th>2</th>\n",
       "      <td>small</td>\n",
       "      <td>GRUMMAN ACFT ENG COR-SCHWEIZER</td>\n",
       "      <td>58</td>\n",
       "      <td>0.017241</td>\n",
       "    </tr>\n",
       "    <tr>\n",
       "      <th>3</th>\n",
       "      <td>small</td>\n",
       "      <td>STINSON</td>\n",
       "      <td>129</td>\n",
       "      <td>0.023256</td>\n",
       "    </tr>\n",
       "    <tr>\n",
       "      <th>4</th>\n",
       "      <td>small</td>\n",
       "      <td>AIRBUS</td>\n",
       "      <td>124</td>\n",
       "      <td>0.024194</td>\n",
       "    </tr>\n",
       "    <tr>\n",
       "      <th>5</th>\n",
       "      <td>small</td>\n",
       "      <td>WACO</td>\n",
       "      <td>41</td>\n",
       "      <td>0.024390</td>\n",
       "    </tr>\n",
       "    <tr>\n",
       "      <th>6</th>\n",
       "      <td>small</td>\n",
       "      <td>COSTRUZIONI AERONAUTICHE TECNA</td>\n",
       "      <td>33</td>\n",
       "      <td>0.030303</td>\n",
       "    </tr>\n",
       "    <tr>\n",
       "      <th>7</th>\n",
       "      <td>small</td>\n",
       "      <td>TAYLORCRAFT</td>\n",
       "      <td>93</td>\n",
       "      <td>0.032258</td>\n",
       "    </tr>\n",
       "    <tr>\n",
       "      <th>8</th>\n",
       "      <td>small</td>\n",
       "      <td>BOMBARDIER</td>\n",
       "      <td>29</td>\n",
       "      <td>0.034483</td>\n",
       "    </tr>\n",
       "    <tr>\n",
       "      <th>9</th>\n",
       "      <td>small</td>\n",
       "      <td>AERONCA</td>\n",
       "      <td>200</td>\n",
       "      <td>0.035000</td>\n",
       "    </tr>\n",
       "    <tr>\n",
       "      <th>10</th>\n",
       "      <td>small</td>\n",
       "      <td>BOEING</td>\n",
       "      <td>695</td>\n",
       "      <td>0.035971</td>\n",
       "    </tr>\n",
       "    <tr>\n",
       "      <th>11</th>\n",
       "      <td>small</td>\n",
       "      <td>ERCOUPE</td>\n",
       "      <td>52</td>\n",
       "      <td>0.038462</td>\n",
       "    </tr>\n",
       "    <tr>\n",
       "      <th>12</th>\n",
       "      <td>small</td>\n",
       "      <td>AMERICAN CHAMPION AIRCRAFT</td>\n",
       "      <td>52</td>\n",
       "      <td>0.038462</td>\n",
       "    </tr>\n",
       "    <tr>\n",
       "      <th>13</th>\n",
       "      <td>small</td>\n",
       "      <td>AVIAT AIRCRAFT INC</td>\n",
       "      <td>76</td>\n",
       "      <td>0.039474</td>\n",
       "    </tr>\n",
       "    <tr>\n",
       "      <th>14</th>\n",
       "      <td>small</td>\n",
       "      <td>MAULE</td>\n",
       "      <td>215</td>\n",
       "      <td>0.041860</td>\n",
       "    </tr>\n",
       "  </tbody>\n",
       "</table>\n",
       "</div>"
      ],
      "text/plain": [
       "   segment                            make    n  destroyed_rate\n",
       "0    small          EVEKTOR-AEROTECHNIK AS   30        0.000000\n",
       "1    small                        LUSCOMBE  141        0.014184\n",
       "2    small  GRUMMAN ACFT ENG COR-SCHWEIZER   58        0.017241\n",
       "3    small                         STINSON  129        0.023256\n",
       "4    small                          AIRBUS  124        0.024194\n",
       "5    small                            WACO   41        0.024390\n",
       "6    small  COSTRUZIONI AERONAUTICHE TECNA   33        0.030303\n",
       "7    small                     TAYLORCRAFT   93        0.032258\n",
       "8    small                      BOMBARDIER   29        0.034483\n",
       "9    small                         AERONCA  200        0.035000\n",
       "10   small                          BOEING  695        0.035971\n",
       "11   small                         ERCOUPE   52        0.038462\n",
       "12   small      AMERICAN CHAMPION AIRCRAFT   52        0.038462\n",
       "13   small              AVIAT AIRCRAFT INC   76        0.039474\n",
       "14   small                           MAULE  215        0.041860"
      ]
     },
     "metadata": {},
     "output_type": "display_data"
    },
    {
     "name": "stdout",
     "output_type": "stream",
     "text": [
      "\n",
      "Large aircraft — 15 lowest destruction rates:\n"
     ]
    },
    {
     "data": {
      "application/vnd.microsoft.datawrangler.viewer.v0+json": {
       "columns": [
        {
         "name": "index",
         "rawType": "int64",
         "type": "integer"
        },
        {
         "name": "segment",
         "rawType": "object",
         "type": "string"
        },
        {
         "name": "make",
         "rawType": "object",
         "type": "string"
        },
        {
         "name": "n",
         "rawType": "int64",
         "type": "integer"
        },
        {
         "name": "destroyed_rate",
         "rawType": "float64",
         "type": "float"
        }
       ],
       "ref": "03beea3c-58ed-46ab-bac4-86b1f89270e2",
       "rows": [
        [
         "0",
         "large",
         "BOMBARDIER INC",
         "44",
         "0.022727272727272728"
        ],
        [
         "1",
         "large",
         "BOMBARDIER",
         "21",
         "0.047619047619047616"
        ],
        [
         "2",
         "large",
         "BOEING",
         "555",
         "0.05045045045045045"
        ],
        [
         "3",
         "large",
         "EMBRAER",
         "78",
         "0.05128205128205128"
        ],
        [
         "4",
         "large",
         "AIRBUS",
         "121",
         "0.0743801652892562"
        ],
        [
         "5",
         "large",
         "MCDONNELL DOUGLAS",
         "53",
         "0.07547169811320754"
        ],
        [
         "6",
         "large",
         "AIRBUS INDUSTRIE",
         "35",
         "0.08571428571428572"
        ]
       ],
       "shape": {
        "columns": 4,
        "rows": 7
       }
      },
      "text/html": [
       "<div>\n",
       "<style scoped>\n",
       "    .dataframe tbody tr th:only-of-type {\n",
       "        vertical-align: middle;\n",
       "    }\n",
       "\n",
       "    .dataframe tbody tr th {\n",
       "        vertical-align: top;\n",
       "    }\n",
       "\n",
       "    .dataframe thead th {\n",
       "        text-align: right;\n",
       "    }\n",
       "</style>\n",
       "<table border=\"1\" class=\"dataframe\">\n",
       "  <thead>\n",
       "    <tr style=\"text-align: right;\">\n",
       "      <th></th>\n",
       "      <th>segment</th>\n",
       "      <th>make</th>\n",
       "      <th>n</th>\n",
       "      <th>destroyed_rate</th>\n",
       "    </tr>\n",
       "  </thead>\n",
       "  <tbody>\n",
       "    <tr>\n",
       "      <th>0</th>\n",
       "      <td>large</td>\n",
       "      <td>BOMBARDIER INC</td>\n",
       "      <td>44</td>\n",
       "      <td>0.022727</td>\n",
       "    </tr>\n",
       "    <tr>\n",
       "      <th>1</th>\n",
       "      <td>large</td>\n",
       "      <td>BOMBARDIER</td>\n",
       "      <td>21</td>\n",
       "      <td>0.047619</td>\n",
       "    </tr>\n",
       "    <tr>\n",
       "      <th>2</th>\n",
       "      <td>large</td>\n",
       "      <td>BOEING</td>\n",
       "      <td>555</td>\n",
       "      <td>0.050450</td>\n",
       "    </tr>\n",
       "    <tr>\n",
       "      <th>3</th>\n",
       "      <td>large</td>\n",
       "      <td>EMBRAER</td>\n",
       "      <td>78</td>\n",
       "      <td>0.051282</td>\n",
       "    </tr>\n",
       "    <tr>\n",
       "      <th>4</th>\n",
       "      <td>large</td>\n",
       "      <td>AIRBUS</td>\n",
       "      <td>121</td>\n",
       "      <td>0.074380</td>\n",
       "    </tr>\n",
       "    <tr>\n",
       "      <th>5</th>\n",
       "      <td>large</td>\n",
       "      <td>MCDONNELL DOUGLAS</td>\n",
       "      <td>53</td>\n",
       "      <td>0.075472</td>\n",
       "    </tr>\n",
       "    <tr>\n",
       "      <th>6</th>\n",
       "      <td>large</td>\n",
       "      <td>AIRBUS INDUSTRIE</td>\n",
       "      <td>35</td>\n",
       "      <td>0.085714</td>\n",
       "    </tr>\n",
       "  </tbody>\n",
       "</table>\n",
       "</div>"
      ],
      "text/plain": [
       "  segment               make    n  destroyed_rate\n",
       "0   large     BOMBARDIER INC   44        0.022727\n",
       "1   large         BOMBARDIER   21        0.047619\n",
       "2   large             BOEING  555        0.050450\n",
       "3   large            EMBRAER   78        0.051282\n",
       "4   large             AIRBUS  121        0.074380\n",
       "5   large  MCDONNELL DOUGLAS   53        0.075472\n",
       "6   large   AIRBUS INDUSTRIE   35        0.085714"
      ]
     },
     "metadata": {},
     "output_type": "display_data"
    }
   ],
   "source": [
    "# --- Destruction rate by make: show 15 lowest for SMALL and LARGE ---\n",
    "\n",
    "import numpy as np\n",
    "import pandas as pd\n",
    "\n",
    "# Ensure the destroyed flag exists\n",
    "if \"destroyed\" not in df.columns and \"aircraft_damage\" in df.columns:\n",
    "    s = df[\"aircraft_damage\"].astype(str).str.strip().str.upper()\n",
    "    df[\"destroyed\"] = (s == \"DESTROYED\").astype(\"int8\")\n",
    "\n",
    "# Ensure the segment column exists (20-person threshold; fallback on engine info)\n",
    "if \"segment\" not in df.columns:\n",
    "    def assign_segment(row):\n",
    "        total = row.get(\"injuries_total\", np.nan)\n",
    "        if pd.notna(total):\n",
    "            if total >= 20:\n",
    "                return \"large\"\n",
    "            else:\n",
    "                return \"small\"\n",
    "        et = str(row.get(\"engine_type\", \"\")).upper()\n",
    "        noe = pd.to_numeric(row.get(\"number_of_engines\", np.nan), errors=\"coerce\")\n",
    "        if et in {\"TURBOFAN\", \"JET\"} or (pd.notna(noe) and noe >= 2):\n",
    "            return \"large\"\n",
    "        if et in {\"PISTON\", \"TURBOPROP\"} or (pd.notna(noe) and noe == 1):\n",
    "            return \"small\"\n",
    "        return np.nan\n",
    "    df[\"segment\"] = df.apply(assign_segment, axis=1)\n",
    "\n",
    "min_n = 20   # require at least this many events per make to reduce noise\n",
    "topn  = 15\n",
    "\n",
    "def lowest_destroyed_by_make(df, segment, min_n=20, topn=15):\n",
    "    sub = df[(df[\"segment\"] == segment) & df[\"make\"].notna()]\n",
    "    g = (sub.groupby(\"make\", dropna=False)\n",
    "            .agg(n=(\"destroyed\", \"size\"),\n",
    "                 destroyed_rate=(\"destroyed\", \"mean\"))\n",
    "            .query(\"n >= @min_n\")\n",
    "            .sort_values(\"destroyed_rate\", ascending=True)\n",
    "            .head(topn)\n",
    "            .reset_index())\n",
    "    g.insert(0, \"segment\", segment)\n",
    "    return g\n",
    "\n",
    "small_low = lowest_destroyed_by_make(df, \"small\", min_n=min_n, topn=topn)\n",
    "large_low = lowest_destroyed_by_make(df, \"large\", min_n=min_n, topn=topn)\n",
    "\n",
    "print(\"Small aircraft — 15 lowest destruction rates:\")\n",
    "display(small_low)\n",
    "\n",
    "print(\"\\nLarge aircraft — 15 lowest destruction rates:\")\n",
    "display(large_low)\n"
   ]
  },
  {
   "cell_type": "markdown",
   "id": "77c7232c",
   "metadata": {},
   "source": [
    "#### Provide a short discussion on your findings for your summary statistics and plots:\n",
    "- Make any recommendations for Makes here based off of the destroyed fraction and fraction fatally/seriously injured\n",
    "- Comment on the calculated statistics and any corresponding distributions you have visualized."
   ]
  },
  {
   "cell_type": "markdown",
   "id": "d34c169e",
   "metadata": {},
   "source": [
    "### Summary & Recommendations\n",
    "\n",
    "**Overall snapshot.** Using the cleaned dataset (**~18,771 rows**, 1983-03-18 → 2022-12-26), the baseline **fatal event rate** is ~17.7% and the **destroyed fraction** is ~10.4%. The average **fatal/serious fraction** across events is ~27.8%.\n",
    "\n",
    "**Small vs large (injury distributions).**\n",
    "- **Small makes:** 10-lowest-mean makes generally show distributions concentrated near zero with sparse high-severity outliers.\n",
    "- **Large makes:** Low-mean makes cluster near zero with occasional outliers; results often depend on weather/phase.\n",
    "\n",
    "**Weather (context).** IMC ≈ 61.7% vs VMC ≈ 23.7%\n",
    "\n",
    "---\n",
    "\n",
    "### Make-Level Recommendations\n",
    "\n",
    "_Selection rule:_ n ≥ 30, ranked by lowest mean fatal/serious fraction (destroyed rate as tiebreaker).\n",
    "\n",
    "- **Small aircraft (top 3):**\n",
    "- **MCDONNELL DOUGLAS** — mean F/S ≈ 9.4%, destroyed ≈ 8.2% (n=49)\n",
    "- **EVEKTOR-AEROTECHNIK AS** — mean F/S ≈ 10.0%, destroyed ≈ 0.0% (n=30)\n",
    "- **WACO** — mean F/S ≈ 13.8%, destroyed ≈ 2.4% (n=41)\n",
    "\n",
    "- **Large aircraft (top 3):**\n",
    "- **MCDONNELL DOUGLAS** — mean F/S ≈ 0.8%, destroyed ≈ 7.5% (n=53)\n",
    "- **BOMBARDIER INC** — mean F/S ≈ 2.8%, destroyed ≈ 2.3% (n=44)\n",
    "- **BOEING** — mean F/S ≈ 5.8%, destroyed ≈ 5.0% (n=555)\n",
    "...\n",
    "- Dataset reflects **accidents**, not total exposure (not fleet-wide risk).\n",
    "- Small samples can be noisy; minimum n helps but doesn’t remove bias.\n",
    "- Some rows lack full counts/labels; metrics computed with safeguards."
   ]
  },
  {
   "cell_type": "markdown",
   "id": "40aecfef",
   "metadata": {},
   "source": [
    "### Analyze plane types\n",
    "- plot the mean fatal/seriously injured fraction for both small and larger planes \n",
    "- also provide a distributional plot of your choice for the fatal/seriously injured fraction by airplane type (stripplot, violin, etc)  \n",
    "- filter ensuring that you have at least ten individual examples in each model/make to average over"
   ]
  },
  {
   "cell_type": "markdown",
   "id": "8f1faa32",
   "metadata": {},
   "source": [
    "**Larger planes**"
   ]
  },
  {
   "cell_type": "code",
   "execution_count": 8,
   "id": "2792d157",
   "metadata": {},
   "outputs": [
    {
     "data": {
      "application/vnd.microsoft.datawrangler.viewer.v0+json": {
       "columns": [
        {
         "name": "index",
         "rawType": "int64",
         "type": "integer"
        },
        {
         "name": "type",
         "rawType": "object",
         "type": "string"
        },
        {
         "name": "mean_fsr",
         "rawType": "float64",
         "type": "float"
        },
        {
         "name": "n",
         "rawType": "int64",
         "type": "integer"
        }
       ],
       "ref": "e69979c0-a908-4344-9770-d90c6b4863dd",
       "rows": [
        [
         "9",
         "BOEING 777",
         "0.0008209861938249787",
         "33"
        ],
        [
         "7",
         "BOEING 757",
         "0.0014728674859393778",
         "18"
        ],
        [
         "10",
         "BOEING 787",
         "0.0030583204305832",
         "11"
        ],
        [
         "5",
         "BOEING 737-7H4",
         "0.0032422969187675",
         "12"
        ],
        [
         "11",
         "BOMBARDIER INC CL-600-2B19",
         "0.0041358024691358",
         "15"
        ],
        [
         "13",
         "EMBRAER EMB145",
         "0.00879765395894428",
         "11"
        ],
        [
         "12",
         "EMBRAER EMB-145LR",
         "0.009999999999999993",
         "15"
        ],
        [
         "6",
         "BOEING 747",
         "0.02316149513593362",
         "11"
        ],
        [
         "8",
         "BOEING 767",
         "0.046962599616317276",
         "31"
        ],
        [
         "4",
         "BOEING 737 7H4",
         "0.06812080536912751",
         "14"
        ],
        [
         "3",
         "BOEING 737",
         "0.08072732401868514",
         "164"
        ],
        [
         "0",
         "AIRBUS A320",
         "0.12669398861259326",
         "24"
        ],
        [
         "2",
         "AIRBUS A330",
         "0.13708045830138854",
         "15"
        ],
        [
         "1",
         "AIRBUS A321",
         "0.2",
         "10"
        ]
       ],
       "shape": {
        "columns": 3,
        "rows": 14
       }
      },
      "text/html": [
       "<div>\n",
       "<style scoped>\n",
       "    .dataframe tbody tr th:only-of-type {\n",
       "        vertical-align: middle;\n",
       "    }\n",
       "\n",
       "    .dataframe tbody tr th {\n",
       "        vertical-align: top;\n",
       "    }\n",
       "\n",
       "    .dataframe thead th {\n",
       "        text-align: right;\n",
       "    }\n",
       "</style>\n",
       "<table border=\"1\" class=\"dataframe\">\n",
       "  <thead>\n",
       "    <tr style=\"text-align: right;\">\n",
       "      <th></th>\n",
       "      <th>type</th>\n",
       "      <th>mean_fsr</th>\n",
       "      <th>n</th>\n",
       "    </tr>\n",
       "  </thead>\n",
       "  <tbody>\n",
       "    <tr>\n",
       "      <th>9</th>\n",
       "      <td>BOEING 777</td>\n",
       "      <td>0.000821</td>\n",
       "      <td>33</td>\n",
       "    </tr>\n",
       "    <tr>\n",
       "      <th>7</th>\n",
       "      <td>BOEING 757</td>\n",
       "      <td>0.001473</td>\n",
       "      <td>18</td>\n",
       "    </tr>\n",
       "    <tr>\n",
       "      <th>10</th>\n",
       "      <td>BOEING 787</td>\n",
       "      <td>0.003058</td>\n",
       "      <td>11</td>\n",
       "    </tr>\n",
       "    <tr>\n",
       "      <th>5</th>\n",
       "      <td>BOEING 737-7H4</td>\n",
       "      <td>0.003242</td>\n",
       "      <td>12</td>\n",
       "    </tr>\n",
       "    <tr>\n",
       "      <th>11</th>\n",
       "      <td>BOMBARDIER INC CL-600-2B19</td>\n",
       "      <td>0.004136</td>\n",
       "      <td>15</td>\n",
       "    </tr>\n",
       "    <tr>\n",
       "      <th>13</th>\n",
       "      <td>EMBRAER EMB145</td>\n",
       "      <td>0.008798</td>\n",
       "      <td>11</td>\n",
       "    </tr>\n",
       "    <tr>\n",
       "      <th>12</th>\n",
       "      <td>EMBRAER EMB-145LR</td>\n",
       "      <td>0.010000</td>\n",
       "      <td>15</td>\n",
       "    </tr>\n",
       "    <tr>\n",
       "      <th>6</th>\n",
       "      <td>BOEING 747</td>\n",
       "      <td>0.023161</td>\n",
       "      <td>11</td>\n",
       "    </tr>\n",
       "    <tr>\n",
       "      <th>8</th>\n",
       "      <td>BOEING 767</td>\n",
       "      <td>0.046963</td>\n",
       "      <td>31</td>\n",
       "    </tr>\n",
       "    <tr>\n",
       "      <th>4</th>\n",
       "      <td>BOEING 737 7H4</td>\n",
       "      <td>0.068121</td>\n",
       "      <td>14</td>\n",
       "    </tr>\n",
       "    <tr>\n",
       "      <th>3</th>\n",
       "      <td>BOEING 737</td>\n",
       "      <td>0.080727</td>\n",
       "      <td>164</td>\n",
       "    </tr>\n",
       "    <tr>\n",
       "      <th>0</th>\n",
       "      <td>AIRBUS A320</td>\n",
       "      <td>0.126694</td>\n",
       "      <td>24</td>\n",
       "    </tr>\n",
       "    <tr>\n",
       "      <th>2</th>\n",
       "      <td>AIRBUS A330</td>\n",
       "      <td>0.137080</td>\n",
       "      <td>15</td>\n",
       "    </tr>\n",
       "    <tr>\n",
       "      <th>1</th>\n",
       "      <td>AIRBUS A321</td>\n",
       "      <td>0.200000</td>\n",
       "      <td>10</td>\n",
       "    </tr>\n",
       "  </tbody>\n",
       "</table>\n",
       "</div>"
      ],
      "text/plain": [
       "                          type  mean_fsr    n\n",
       "9                   BOEING 777  0.000821   33\n",
       "7                   BOEING 757  0.001473   18\n",
       "10                  BOEING 787  0.003058   11\n",
       "5               BOEING 737-7H4  0.003242   12\n",
       "11  BOMBARDIER INC CL-600-2B19  0.004136   15\n",
       "13              EMBRAER EMB145  0.008798   11\n",
       "12           EMBRAER EMB-145LR  0.010000   15\n",
       "6                   BOEING 747  0.023161   11\n",
       "8                   BOEING 767  0.046963   31\n",
       "4               BOEING 737 7H4  0.068121   14\n",
       "3                   BOEING 737  0.080727  164\n",
       "0                  AIRBUS A320  0.126694   24\n",
       "2                  AIRBUS A330  0.137080   15\n",
       "1                  AIRBUS A321  0.200000   10"
      ]
     },
     "metadata": {},
     "output_type": "display_data"
    },
    {
     "data": {
      "image/png": "[encoded data removed]",
      "text/plain": [
       "<Figure size 1200x700 with 1 Axes>"
      ]
     },
     "metadata": {},
     "output_type": "display_data"
    },
    {
     "data": {
      "image/png": "[encoded data removed]",
      "text/plain": [
       "<Figure size 1200x700 with 1 Axes>"
      ]
     },
     "metadata": {},
     "output_type": "display_data"
    }
   ],
   "source": [
    "# === Larger planes: mean F/S fraction by model, plus a distribution plot ===\n",
    "import numpy as np, pandas as pd, seaborn as sns, matplotlib.pyplot as plt\n",
    "\n",
    "# Ensure fatal_serious_rate exists\n",
    "if \"fatal_serious_rate\" not in df.columns and {\"injuries_fatal\",\"injuries_serious\",\"injuries_total\"}.issubset(df.columns):\n",
    "    df[\"fatal_serious_injuries\"] = df[\"injuries_fatal\"].fillna(0) + df[\"injuries_serious\"].fillna(0)\n",
    "    df[\"fatal_serious_rate\"] = df[\"fatal_serious_injuries\"] / df[\"injuries_total\"].replace(0, np.nan)\n",
    "\n",
    "# Ensure segment exists (threshold 20 people; fallback on engine info)\n",
    "if \"segment\" not in df.columns:\n",
    "    def assign_segment(row):\n",
    "        total = row.get(\"injuries_total\", np.nan)\n",
    "        if pd.notna(total):\n",
    "            return \"large\" if total >= 20 else \"small\"\n",
    "        et  = str(row.get(\"engine_type\",\"\")).upper()\n",
    "        noe = pd.to_numeric(row.get(\"number_of_engines\", np.nan), errors=\"coerce\")\n",
    "        if et in {\"TURBOFAN\",\"JET\"} or (pd.notna(noe) and noe >= 2): return \"large\"\n",
    "        if et in {\"PISTON\",\"TURBOPROP\"} or (pd.notna(noe) and noe == 1): return \"small\"\n",
    "        return np.nan\n",
    "    df[\"segment\"] = df.apply(assign_segment, axis=1)\n",
    "\n",
    "min_n = 10  # at least 10 events per type (model) to average over\n",
    "\n",
    "large = df[(df[\"segment\"]==\"large\") & df[\"fatal_serious_rate\"].notna()].copy()\n",
    "large = large.dropna(subset=[\"make\",\"model\"])\n",
    "large[\"type\"] = (large[\"make\"].astype(str).str.upper().str.strip()\n",
    "                 + \" \" +\n",
    "                 large[\"model\"].astype(str).str.upper().str.strip())\n",
    "\n",
    "# Mean F/S by model type with n >= 10; keep 15 lowest\n",
    "gL = (large.groupby(\"type\")\n",
    "            .agg(mean_fsr=(\"fatal_serious_rate\",\"mean\"),\n",
    "                 n=(\"fatal_serious_rate\",\"size\"))\n",
    "            .query(\"n >= @min_n\")\n",
    "            .reset_index()\n",
    "            .sort_values(\"mean_fsr\", ascending=True)\n",
    "            .head(15))\n",
    "\n",
    "display(gL)\n",
    "\n",
    "# Bar chart of means\n",
    "orderL = gL.sort_values(\"mean_fsr\")[\"type\"].tolist()\n",
    "plt.figure(figsize=(12, 7))\n",
    "plt.barh(orderL, gL.set_index(\"type\").loc[orderL, \"mean_fsr\"])\n",
    "plt.xlabel(\"Mean fatal/serious fraction\")\n",
    "plt.ylabel(\"Model (Make Model)\")\n",
    "plt.title(f\"Larger planes — lowest mean fatal/serious fraction (n ≥ {min_n})\")\n",
    "plt.gca().invert_yaxis()\n",
    "plt.tight_layout()\n",
    "plt.show()\n",
    "\n",
    "# Distributional plot (strip) for the same types\n",
    "subsetL = large[large[\"type\"].isin(orderL)]\n",
    "plt.figure(figsize=(12, 7))\n",
    "sns.stripplot(data=subsetL, x=\"fatal_serious_rate\", y=\"type\", order=orderL, jitter=True, alpha=0.7)\n",
    "plt.xlabel(\"Fatal/serious fraction\")\n",
    "plt.ylabel(\"Model (Make Model)\")\n",
    "plt.title(\"Larger planes — distribution of fatal/serious fraction (selected types)\")\n",
    "plt.tight_layout()\n",
    "plt.show()\n"
   ]
  },
  {
   "cell_type": "markdown",
   "id": "c7bb10ce",
   "metadata": {},
   "source": [
    "**Smaller planes**\n",
    "- for smaller planes, limit your plotted results to the makes with the 10 lowest mean serious/fatal injury fractions"
   ]
  },
  {
   "cell_type": "code",
   "execution_count": 9,
   "id": "d0590708",
   "metadata": {},
   "outputs": [
    {
     "data": {
      "application/vnd.microsoft.datawrangler.viewer.v0+json": {
       "columns": [
        {
         "name": "index",
         "rawType": "int64",
         "type": "integer"
        },
        {
         "name": "make",
         "rawType": "object",
         "type": "string"
        },
        {
         "name": "mean_fsr",
         "rawType": "float64",
         "type": "float"
        },
        {
         "name": "n",
         "rawType": "int64",
         "type": "integer"
        }
       ],
       "ref": "07dd6e57-8c26-402a-85a1-b59ab7b9e14e",
       "rows": [
        [
         "37",
         "MCDONNELL DOUGLAS",
         "0.09404761904761903",
         "30"
        ],
        [
         "14",
         "BOMBARDIER INC",
         "0.1",
         "10"
        ],
        [
         "27",
         "EVEKTOR-AEROTECHNIK AS",
         "0.1",
         "30"
        ],
        [
         "13",
         "BOMBARDIER",
         "0.10384615384615385",
         "15"
        ],
        [
         "52",
         "WACO",
         "0.13821138211382114",
         "41"
        ],
        [
         "12",
         "BOEING",
         "0.1414526560130956",
         "273"
        ],
        [
         "7",
         "AVIAT AIRCRAFT INC",
         "0.16447368421052633",
         "76"
        ],
        [
         "36",
         "MAULE",
         "0.16480620155038758",
         "215"
        ],
        [
         "31",
         "GRUMMAN ACFT ENG COR-SCHWEIZER",
         "0.20689655172413793",
         "58"
        ],
        [
         "8",
         "AYRES",
         "0.21568627450980393",
         "51"
        ]
       ],
       "shape": {
        "columns": 3,
        "rows": 10
       }
      },
      "text/html": [
       "<div>\n",
       "<style scoped>\n",
       "    .dataframe tbody tr th:only-of-type {\n",
       "        vertical-align: middle;\n",
       "    }\n",
       "\n",
       "    .dataframe tbody tr th {\n",
       "        vertical-align: top;\n",
       "    }\n",
       "\n",
       "    .dataframe thead th {\n",
       "        text-align: right;\n",
       "    }\n",
       "</style>\n",
       "<table border=\"1\" class=\"dataframe\">\n",
       "  <thead>\n",
       "    <tr style=\"text-align: right;\">\n",
       "      <th></th>\n",
       "      <th>make</th>\n",
       "      <th>mean_fsr</th>\n",
       "      <th>n</th>\n",
       "    </tr>\n",
       "  </thead>\n",
       "  <tbody>\n",
       "    <tr>\n",
       "      <th>37</th>\n",
       "      <td>MCDONNELL DOUGLAS</td>\n",
       "      <td>0.094048</td>\n",
       "      <td>30</td>\n",
       "    </tr>\n",
       "    <tr>\n",
       "      <th>14</th>\n",
       "      <td>BOMBARDIER INC</td>\n",
       "      <td>0.100000</td>\n",
       "      <td>10</td>\n",
       "    </tr>\n",
       "    <tr>\n",
       "      <th>27</th>\n",
       "      <td>EVEKTOR-AEROTECHNIK AS</td>\n",
       "      <td>0.100000</td>\n",
       "      <td>30</td>\n",
       "    </tr>\n",
       "    <tr>\n",
       "      <th>13</th>\n",
       "      <td>BOMBARDIER</td>\n",
       "      <td>0.103846</td>\n",
       "      <td>15</td>\n",
       "    </tr>\n",
       "    <tr>\n",
       "      <th>52</th>\n",
       "      <td>WACO</td>\n",
       "      <td>0.138211</td>\n",
       "      <td>41</td>\n",
       "    </tr>\n",
       "    <tr>\n",
       "      <th>12</th>\n",
       "      <td>BOEING</td>\n",
       "      <td>0.141453</td>\n",
       "      <td>273</td>\n",
       "    </tr>\n",
       "    <tr>\n",
       "      <th>7</th>\n",
       "      <td>AVIAT AIRCRAFT INC</td>\n",
       "      <td>0.164474</td>\n",
       "      <td>76</td>\n",
       "    </tr>\n",
       "    <tr>\n",
       "      <th>36</th>\n",
       "      <td>MAULE</td>\n",
       "      <td>0.164806</td>\n",
       "      <td>215</td>\n",
       "    </tr>\n",
       "    <tr>\n",
       "      <th>31</th>\n",
       "      <td>GRUMMAN ACFT ENG COR-SCHWEIZER</td>\n",
       "      <td>0.206897</td>\n",
       "      <td>58</td>\n",
       "    </tr>\n",
       "    <tr>\n",
       "      <th>8</th>\n",
       "      <td>AYRES</td>\n",
       "      <td>0.215686</td>\n",
       "      <td>51</td>\n",
       "    </tr>\n",
       "  </tbody>\n",
       "</table>\n",
       "</div>"
      ],
      "text/plain": [
       "                              make  mean_fsr    n\n",
       "37               MCDONNELL DOUGLAS  0.094048   30\n",
       "14                  BOMBARDIER INC  0.100000   10\n",
       "27          EVEKTOR-AEROTECHNIK AS  0.100000   30\n",
       "13                      BOMBARDIER  0.103846   15\n",
       "52                            WACO  0.138211   41\n",
       "12                          BOEING  0.141453  273\n",
       "7               AVIAT AIRCRAFT INC  0.164474   76\n",
       "36                           MAULE  0.164806  215\n",
       "31  GRUMMAN ACFT ENG COR-SCHWEIZER  0.206897   58\n",
       "8                            AYRES  0.215686   51"
      ]
     },
     "metadata": {},
     "output_type": "display_data"
    },
    {
     "data": {
      "image/png": "[encoded data removed]",
      "text/plain": [
       "<Figure size 1200x700 with 1 Axes>"
      ]
     },
     "metadata": {},
     "output_type": "display_data"
    },
    {
     "name": "stderr",
     "output_type": "stream",
     "text": [
      "/var/folders/wg/j89dzhfn1z17b36_t8g6rcjr0000gn/T/ipykernel_89986/2508321223.py:42: FutureWarning: \n",
      "\n",
      "The `scale` parameter has been renamed and will be removed in v0.15.0. Pass `density_norm='width'` for the same effect.\n",
      "  sns.violinplot(data=subsetS, x=\"fatal_serious_rate\", y=\"make\", order=orderS, cut=0, inner=\"quartile\", scale=\"width\")\n"
     ]
    },
    {
     "data": {
      "image/png": "[encoded data removed]",
      "text/plain": [
       "<Figure size 1200x700 with 1 Axes>"
      ]
     },
     "metadata": {},
     "output_type": "display_data"
    }
   ],
   "source": [
    "# === Smaller planes: mean F/S by make (10 lowest) + distribution plot ===\n",
    "import numpy as np, pandas as pd, seaborn as sns, matplotlib.pyplot as plt\n",
    "\n",
    "# Ensure fatal_serious_rate exists\n",
    "if \"fatal_serious_rate\" not in df.columns and {\"injuries_fatal\",\"injuries_serious\",\"injuries_total\"}.issubset(df.columns):\n",
    "    df[\"fatal_serious_injuries\"] = df[\"injuries_fatal\"].fillna(0) + df[\"injuries_serious\"].fillna(0)\n",
    "    df[\"fatal_serious_rate\"] = df[\"fatal_serious_injuries\"] / df[\"injuries_total\"].replace(0, np.nan)\n",
    "\n",
    "# Segment already built above; if not, reuse the same function\n",
    "\n",
    "min_n = 10  # at least 10 events per make\n",
    "\n",
    "small = df[(df[\"segment\"]==\"small\") & df[\"fatal_serious_rate\"].notna()].copy()\n",
    "small = small.dropna(subset=[\"make\"])\n",
    "small[\"make\"] = small[\"make\"].astype(str).str.upper().str.strip()\n",
    "\n",
    "# Mean F/S by make; pick the 10 lowest means with n >= 10\n",
    "gS = (small.groupby(\"make\")\n",
    "            .agg(mean_fsr=(\"fatal_serious_rate\",\"mean\"),\n",
    "                 n=(\"fatal_serious_rate\",\"size\"))\n",
    "            .query(\"n >= @min_n\")\n",
    "            .reset_index()\n",
    "            .sort_values(\"mean_fsr\", ascending=True)\n",
    "            .head(10))\n",
    "\n",
    "display(gS)\n",
    "\n",
    "# Bar chart of means\n",
    "orderS = gS.sort_values(\"mean_fsr\")[\"make\"].tolist()\n",
    "plt.figure(figsize=(12, 7))\n",
    "plt.barh(orderS, gS.set_index(\"make\").loc[orderS, \"mean_fsr\"])\n",
    "plt.xlabel(\"Mean fatal/serious fraction\")\n",
    "plt.ylabel(\"Make\")\n",
    "plt.title(f\"Smaller planes — 10 makes with lowest mean F/S (n ≥ {min_n})\")\n",
    "plt.gca().invert_yaxis()\n",
    "plt.tight_layout()\n",
    "plt.show()\n",
    "\n",
    "# Distributional plot (violin) for those 10 makes\n",
    "subsetS = small[small[\"make\"].isin(orderS)]\n",
    "plt.figure(figsize=(12, 7))\n",
    "sns.violinplot(data=subsetS, x=\"fatal_serious_rate\", y=\"make\", order=orderS, cut=0, inner=\"quartile\", scale=\"width\")\n",
    "plt.xlabel(\"Fatal/serious fraction\")\n",
    "plt.ylabel(\"Make\")\n",
    "plt.title(\"Smaller planes — distribution of fatal/serious fraction (10 best makes)\")\n",
    "plt.tight_layout()\n",
    "plt.show()\n"
   ]
  },
  {
   "cell_type": "markdown",
   "id": "727e14b5",
   "metadata": {},
   "source": [
    "### Discussion of Specific Airplane Types\n",
    "- Discuss what you have found above regarding passenger fraction seriously/ both small and large airplane models."
   ]
  },
  {
   "cell_type": "markdown",
   "id": "803afac9",
   "metadata": {},
   "source": [
    "### Discussion of Specific Airplane Types\n",
    "\n",
    "**Method.** I split events into **small** (< 20 people) and **large** (≥ 20) segments. For each model with at least **10** events, I computed the **fatal/serious injured fraction** per event and summarized by model.\n",
    "\n",
    "**Small airplane models (top 3 by lowest mean fatal/serious fraction):**\n",
    "- **CESSNA 172SP** — mean F/S ≈ 0.0% (n=12)\n",
    "- **DIAMOND AIRCRAFT IND INC DA 20 C1** — mean F/S ≈ 0.0% (n=11)\n",
    "- **MAULE M-5-210C** — mean F/S ≈ 0.0% (n=11)\n",
    "\n",
    "Distribution among these selected small models: median 0.0%, IQR [0.0%, 0.0%].\n",
    "\n",
    "**Large airplane models (top 3 by lowest mean fatal/serious fraction):**\n",
    "- **BOEING 777** — mean F/S ≈ 0.1% (n=33)\n",
    "- **BOEING 757** — mean F/S ≈ 0.1% (n=18)\n",
    "- **BOEING 787** — mean F/S ≈ 0.3% (n=11)\n",
    "\n",
    "Distribution among these selected large models: median 0.0%, IQR [0.0%, 0.0%].\n",
    "\n",
    "**Notes.** These comparisons are conditional on reported accidents (not exposure-adjusted). Sample-size filtering (n ≥ 10) reduces noise, but operational context (weather, phase of flight, mission) still influences outcomes"
   ]
  },
  {
   "cell_type": "markdown",
   "id": "91b39e09",
   "metadata": {},
   "source": [
    "### Exploring Other Variables\n",
    "- Investigate how other variables effect aircraft damage and injury. You must choose **two** factors out of the following but are free to analyze more:\n",
    "\n",
    "- Weather Condition\n",
    "- Engine Type\n",
    "- Number of Engines\n",
    "- Phase of Flight\n",
    "- Purpose of Flight\n",
    "\n",
    "For each factor provide a discussion explaining your analysis with appropriate visualization / data summaries and interpreting your findings."
   ]
  },
  {
   "cell_type": "code",
   "execution_count": 10,
   "id": "2ce07617",
   "metadata": {},
   "outputs": [
    {
     "data": {
      "application/vnd.microsoft.datawrangler.viewer.v0+json": {
       "columns": [
        {
         "name": "index",
         "rawType": "int64",
         "type": "integer"
        },
        {
         "name": "weather_condition",
         "rawType": "object",
         "type": "string"
        },
        {
         "name": "n",
         "rawType": "int64",
         "type": "integer"
        },
        {
         "name": "fatal_serious_rate_mean",
         "rawType": "float64",
         "type": "float"
        },
        {
         "name": "destroyed_rate",
         "rawType": "float64",
         "type": "float"
        }
       ],
       "ref": "fd893f0d-030a-4f2f-9e7a-9e036967dbc2",
       "rows": [
        [
         "0",
         "IMC",
         "946",
         "0.6173389692630488",
         "0.3456659619450317"
        ],
        [
         "2",
         "UNK",
         "293",
         "0.4327799601293359",
         "0.2627986348122867"
        ],
        [
         "1",
         "NAN",
         "2541",
         "0.41860850923322435",
         "0.1822117276662731"
        ],
        [
         "3",
         "VMC",
         "14991",
         "0.2374804840102196",
         "0.07244346607964779"
        ]
       ],
       "shape": {
        "columns": 4,
        "rows": 4
       }
      },
      "text/html": [
       "<div>\n",
       "<style scoped>\n",
       "    .dataframe tbody tr th:only-of-type {\n",
       "        vertical-align: middle;\n",
       "    }\n",
       "\n",
       "    .dataframe tbody tr th {\n",
       "        vertical-align: top;\n",
       "    }\n",
       "\n",
       "    .dataframe thead th {\n",
       "        text-align: right;\n",
       "    }\n",
       "</style>\n",
       "<table border=\"1\" class=\"dataframe\">\n",
       "  <thead>\n",
       "    <tr style=\"text-align: right;\">\n",
       "      <th></th>\n",
       "      <th>weather_condition</th>\n",
       "      <th>n</th>\n",
       "      <th>fatal_serious_rate_mean</th>\n",
       "      <th>destroyed_rate</th>\n",
       "    </tr>\n",
       "  </thead>\n",
       "  <tbody>\n",
       "    <tr>\n",
       "      <th>0</th>\n",
       "      <td>IMC</td>\n",
       "      <td>946</td>\n",
       "      <td>0.617339</td>\n",
       "      <td>0.345666</td>\n",
       "    </tr>\n",
       "    <tr>\n",
       "      <th>2</th>\n",
       "      <td>UNK</td>\n",
       "      <td>293</td>\n",
       "      <td>0.432780</td>\n",
       "      <td>0.262799</td>\n",
       "    </tr>\n",
       "    <tr>\n",
       "      <th>1</th>\n",
       "      <td>NAN</td>\n",
       "      <td>2541</td>\n",
       "      <td>0.418609</td>\n",
       "      <td>0.182212</td>\n",
       "    </tr>\n",
       "    <tr>\n",
       "      <th>3</th>\n",
       "      <td>VMC</td>\n",
       "      <td>14991</td>\n",
       "      <td>0.237480</td>\n",
       "      <td>0.072443</td>\n",
       "    </tr>\n",
       "  </tbody>\n",
       "</table>\n",
       "</div>"
      ],
      "text/plain": [
       "  weather_condition      n  fatal_serious_rate_mean  destroyed_rate\n",
       "0               IMC    946                 0.617339        0.345666\n",
       "2               UNK    293                 0.432780        0.262799\n",
       "1               NAN   2541                 0.418609        0.182212\n",
       "3               VMC  14991                 0.237480        0.072443"
      ]
     },
     "metadata": {},
     "output_type": "display_data"
    },
    {
     "data": {
      "image/png": "[encoded data removed]",
      "text/plain": [
       "<Figure size 1000x500 with 1 Axes>"
      ]
     },
     "metadata": {},
     "output_type": "display_data"
    },
    {
     "data": {
      "image/png": "[encoded data removed]",
      "text/plain": [
       "<Figure size 1000x500 with 1 Axes>"
      ]
     },
     "metadata": {},
     "output_type": "display_data"
    },
    {
     "name": "stdout",
     "output_type": "stream",
     "text": [
      "Weather summary: IMC mean F/S ≈ 61.7% vs VMC ≈ 23.7%; IMC destroyed ≈ 34.6% vs VMC ≈ 7.2%.\n"
     ]
    }
   ],
   "source": [
    "# --- Weather Condition: effect on severity and aircraft destruction ---\n",
    "\n",
    "import numpy as np, pandas as pd, seaborn as sns, matplotlib.pyplot as plt\n",
    "\n",
    "# Ensure needed columns exist\n",
    "if \"fatal_serious_injuries\" not in df.columns and {\"injuries_fatal\",\"injuries_serious\"}.issubset(df.columns):\n",
    "    df[\"fatal_serious_injuries\"] = df[\"injuries_fatal\"].fillna(0) + df[\"injuries_serious\"].fillna(0)\n",
    "if \"injuries_total\" not in df.columns:\n",
    "    parts = [c for c in [\"injuries_fatal\",\"injuries_serious\",\"injuries_minor\",\"uninjured\"] if c in df.columns]\n",
    "    if parts:\n",
    "        df[\"injuries_total\"] = df[parts].sum(axis=1, min_count=1)\n",
    "if \"fatal_serious_rate\" not in df.columns and {\"fatal_serious_injuries\",\"injuries_total\"}.issubset(df.columns):\n",
    "    df[\"fatal_serious_rate\"] = df[\"fatal_serious_injuries\"] / df[\"injuries_total\"].replace(0, np.nan)\n",
    "if \"destroyed\" not in df.columns and \"aircraft_damage\" in df.columns:\n",
    "    s = df[\"aircraft_damage\"].astype(str).str.strip().str.upper()\n",
    "    df[\"destroyed\"] = (s == \"DESTROYED\").astype(\"int8\")\n",
    "\n",
    "# Clean labels\n",
    "if \"weather_condition\" not in df.columns:\n",
    "    raise KeyError(\"weather_condition column not found.\")\n",
    "df[\"weather_condition\"] = df[\"weather_condition\"].astype(str).str.upper().str.strip()\n",
    "\n",
    "# Group (split–apply–combine)\n",
    "min_n = 30\n",
    "g = (df.dropna(subset=[\"weather_condition\"])\n",
    "       .groupby(\"weather_condition\", dropna=False)\n",
    "       .agg(\n",
    "           n=(\"fatal_serious_rate\", \"size\"),\n",
    "           fatal_serious_rate_mean=(\"fatal_serious_rate\",\"mean\"),\n",
    "           destroyed_rate=(\"destroyed\",\"mean\") if \"destroyed\" in df.columns else (\"fatal_serious_rate\",\"mean\")\n",
    "       )\n",
    "       .query(\"n >= @min_n\")\n",
    "       .reset_index())\n",
    "\n",
    "display(g.sort_values(\"fatal_serious_rate_mean\", ascending=False))\n",
    "\n",
    "# Plots\n",
    "plt.figure(figsize=(10,5))\n",
    "sns.barplot(data=g.sort_values(\"fatal_serious_rate_mean\", ascending=False),\n",
    "            x=\"fatal_serious_rate_mean\", y=\"weather_condition\")\n",
    "plt.xlabel(\"Mean fatal/serious injured fraction\")\n",
    "plt.ylabel(\"Weather condition\")\n",
    "plt.title(f\"Severity by Weather (n ≥ {min_n})\")\n",
    "plt.tight_layout(); plt.show()\n",
    "\n",
    "if \"destroyed_rate\" in g.columns:\n",
    "    plt.figure(figsize=(10,5))\n",
    "    sns.barplot(data=g.sort_values(\"destroyed_rate\", ascending=False),\n",
    "                x=\"destroyed_rate\", y=\"weather_condition\")\n",
    "    plt.xlabel(\"Destroyed rate\")\n",
    "    plt.ylabel(\"Weather condition\")\n",
    "    plt.title(f\"Destroyed Rate by Weather (n ≥ {min_n})\")\n",
    "    plt.tight_layout(); plt.show()\n",
    "\n",
    "# Quick auto-summary to paste into markdown\n",
    "def pct(x): return \"NA\" if pd.isna(x) else f\"{100*x:.1f}%\"\n",
    "imc = g.loc[g[\"weather_condition\"]==\"IMC\"] if \"IMC\" in g[\"weather_condition\"].values else pd.DataFrame()\n",
    "vmc = g.loc[g[\"weather_condition\"]==\"VMC\"] if \"VMC\" in g[\"weather_condition\"].values else pd.DataFrame()\n",
    "msg = \"Weather summary: \"\n",
    "if not imc.empty and not vmc.empty:\n",
    "    msg += f\"IMC mean F/S ≈ {pct(imc['fatal_serious_rate_mean'].iloc[0])} vs VMC ≈ {pct(vmc['fatal_serious_rate_mean'].iloc[0])}; \"\n",
    "    if \"destroyed_rate\" in g.columns:\n",
    "        msg += f\"IMC destroyed ≈ {pct(imc['destroyed_rate'].iloc[0])} vs VMC ≈ {pct(vmc['destroyed_rate'].iloc[0])}.\"\n",
    "print(msg)\n"
   ]
  },
  {
   "cell_type": "markdown",
   "id": "d339f247",
   "metadata": {},
   "source": [
    "Weather Condition: effect on severity and aircraft destruction\n",
    "\n",
    "Weather summary: IMC mean F/S ≈ 61.7% vs VMC ≈ 23.7%; IMC destroyed ≈ 34.6% vs VMC ≈ 7.2%.\n",
    "\n",
    "Compared with VMC, accidents in IMC show a much higher fraction of fatal/serious injuries (≈62% vs ≈24%) and a higher aircraft destruction rate (≈35% vs ≈7%). This suggests reduced visibility/conditions materially worsen outcomes (note: figures are conditional on reported accidents).\n",
    "\n",
    "VMC and IMC are weather/visibility categories used in aviation:\n",
    "\n",
    "VMC — Visual Meteorological Conditions: Weather is good enough to fly by outside visual references (meets VFR “visual flight rules” minima). Think: decent visibility and cloud clearance.\n",
    "\n",
    "IMC — Instrument Meteorological Conditions: Weather is below VFR minima, so pilots must fly by instruments under IFR (e.g., in clouds, fog, low ceilings, poor visibility).\n",
    "\n",
    "In short: VMC = see-and-avoid; IMC = fly-by-instruments."
   ]
  },
  {
   "cell_type": "code",
   "execution_count": 11,
   "id": "fcc7b50e",
   "metadata": {},
   "outputs": [
    {
     "data": {
      "application/vnd.microsoft.datawrangler.viewer.v0+json": {
       "columns": [
        {
         "name": "index",
         "rawType": "int64",
         "type": "integer"
        },
        {
         "name": "broad_phase_of_flight",
         "rawType": "object",
         "type": "string"
        },
        {
         "name": "n",
         "rawType": "int64",
         "type": "integer"
        },
        {
         "name": "fatal_serious_rate_mean",
         "rawType": "float64",
         "type": "float"
        },
        {
         "name": "destroyed_rate",
         "rawType": "float64",
         "type": "float"
        }
       ],
       "ref": "9a91ec18-1857-4390-ace3-8397ac294d4d",
       "rows": [
        [
         "6",
         "MANEUVERING",
         "132",
         "0.36026805320283584",
         "0.2878787878787879"
        ],
        [
         "1",
         "CLIMB",
         "52",
         "0.31761050210088965",
         "0.28846153846153844"
        ],
        [
         "7",
         "NAN",
         "16270",
         "0.30794371823928407",
         "0.10835894283958206"
        ],
        [
         "3",
         "DESCENT",
         "63",
         "0.21843069211490262",
         "0.15873015873015872"
        ],
        [
         "0",
         "APPROACH",
         "214",
         "0.21626244524915245",
         "0.11214953271028037"
        ],
        [
         "2",
         "CRUISE",
         "247",
         "0.18019740613131918",
         "0.13765182186234817"
        ],
        [
         "9",
         "TAKEOFF",
         "434",
         "0.11112767161154258",
         "0.10599078341013825"
        ],
        [
         "4",
         "GO-AROUND",
         "82",
         "0.08577235772357723",
         "0.06097560975609756"
        ],
        [
         "8",
         "STANDING",
         "39",
         "0.08497182500092376",
         "0.05128205128205128"
        ],
        [
         "10",
         "TAXI",
         "102",
         "0.016895888386952527",
         "0.00980392156862745"
        ],
        [
         "5",
         "LANDING",
         "1134",
         "0.008977734721083704",
         "0.013227513227513227"
        ]
       ],
       "shape": {
        "columns": 4,
        "rows": 11
       }
      },
      "text/html": [
       "<div>\n",
       "<style scoped>\n",
       "    .dataframe tbody tr th:only-of-type {\n",
       "        vertical-align: middle;\n",
       "    }\n",
       "\n",
       "    .dataframe tbody tr th {\n",
       "        vertical-align: top;\n",
       "    }\n",
       "\n",
       "    .dataframe thead th {\n",
       "        text-align: right;\n",
       "    }\n",
       "</style>\n",
       "<table border=\"1\" class=\"dataframe\">\n",
       "  <thead>\n",
       "    <tr style=\"text-align: right;\">\n",
       "      <th></th>\n",
       "      <th>broad_phase_of_flight</th>\n",
       "      <th>n</th>\n",
       "      <th>fatal_serious_rate_mean</th>\n",
       "      <th>destroyed_rate</th>\n",
       "    </tr>\n",
       "  </thead>\n",
       "  <tbody>\n",
       "    <tr>\n",
       "      <th>6</th>\n",
       "      <td>MANEUVERING</td>\n",
       "      <td>132</td>\n",
       "      <td>0.360268</td>\n",
       "      <td>0.287879</td>\n",
       "    </tr>\n",
       "    <tr>\n",
       "      <th>1</th>\n",
       "      <td>CLIMB</td>\n",
       "      <td>52</td>\n",
       "      <td>0.317611</td>\n",
       "      <td>0.288462</td>\n",
       "    </tr>\n",
       "    <tr>\n",
       "      <th>7</th>\n",
       "      <td>NAN</td>\n",
       "      <td>16270</td>\n",
       "      <td>0.307944</td>\n",
       "      <td>0.108359</td>\n",
       "    </tr>\n",
       "    <tr>\n",
       "      <th>3</th>\n",
       "      <td>DESCENT</td>\n",
       "      <td>63</td>\n",
       "      <td>0.218431</td>\n",
       "      <td>0.158730</td>\n",
       "    </tr>\n",
       "    <tr>\n",
       "      <th>0</th>\n",
       "      <td>APPROACH</td>\n",
       "      <td>214</td>\n",
       "      <td>0.216262</td>\n",
       "      <td>0.112150</td>\n",
       "    </tr>\n",
       "    <tr>\n",
       "      <th>2</th>\n",
       "      <td>CRUISE</td>\n",
       "      <td>247</td>\n",
       "      <td>0.180197</td>\n",
       "      <td>0.137652</td>\n",
       "    </tr>\n",
       "    <tr>\n",
       "      <th>9</th>\n",
       "      <td>TAKEOFF</td>\n",
       "      <td>434</td>\n",
       "      <td>0.111128</td>\n",
       "      <td>0.105991</td>\n",
       "    </tr>\n",
       "    <tr>\n",
       "      <th>4</th>\n",
       "      <td>GO-AROUND</td>\n",
       "      <td>82</td>\n",
       "      <td>0.085772</td>\n",
       "      <td>0.060976</td>\n",
       "    </tr>\n",
       "    <tr>\n",
       "      <th>8</th>\n",
       "      <td>STANDING</td>\n",
       "      <td>39</td>\n",
       "      <td>0.084972</td>\n",
       "      <td>0.051282</td>\n",
       "    </tr>\n",
       "    <tr>\n",
       "      <th>10</th>\n",
       "      <td>TAXI</td>\n",
       "      <td>102</td>\n",
       "      <td>0.016896</td>\n",
       "      <td>0.009804</td>\n",
       "    </tr>\n",
       "    <tr>\n",
       "      <th>5</th>\n",
       "      <td>LANDING</td>\n",
       "      <td>1134</td>\n",
       "      <td>0.008978</td>\n",
       "      <td>0.013228</td>\n",
       "    </tr>\n",
       "  </tbody>\n",
       "</table>\n",
       "</div>"
      ],
      "text/plain": [
       "   broad_phase_of_flight      n  fatal_serious_rate_mean  destroyed_rate\n",
       "6            MANEUVERING    132                 0.360268        0.287879\n",
       "1                  CLIMB     52                 0.317611        0.288462\n",
       "7                    NAN  16270                 0.307944        0.108359\n",
       "3                DESCENT     63                 0.218431        0.158730\n",
       "0               APPROACH    214                 0.216262        0.112150\n",
       "2                 CRUISE    247                 0.180197        0.137652\n",
       "9                TAKEOFF    434                 0.111128        0.105991\n",
       "4              GO-AROUND     82                 0.085772        0.060976\n",
       "8               STANDING     39                 0.084972        0.051282\n",
       "10                  TAXI    102                 0.016896        0.009804\n",
       "5                LANDING   1134                 0.008978        0.013228"
      ]
     },
     "metadata": {},
     "output_type": "display_data"
    },
    {
     "data": {
      "image/png": "[encoded data removed]",
      "text/plain": [
       "<Figure size 1000x600 with 1 Axes>"
      ]
     },
     "metadata": {},
     "output_type": "display_data"
    },
    {
     "data": {
      "image/png": "[encoded data removed]",
      "text/plain": [
       "<Figure size 1000x600 with 1 Axes>"
      ]
     },
     "metadata": {},
     "output_type": "display_data"
    },
    {
     "name": "stdout",
     "output_type": "stream",
     "text": [
      "Phase summary: Highest: MANEUVERING (36.0%), CLIMB (31.8%) | Lowest: LANDING (0.9%), TAXI (1.7%)\n"
     ]
    }
   ],
   "source": [
    "# --- Phase of Flight: effect on severity and aircraft destruction ---\n",
    "\n",
    "import numpy as np, pandas as pd, seaborn as sns, matplotlib.pyplot as plt\n",
    "\n",
    "if \"broad_phase_of_flight\" not in df.columns:\n",
    "    raise KeyError(\"broad_phase_of_flight column not found.\")\n",
    "df[\"broad_phase_of_flight\"] = df[\"broad_phase_of_flight\"].astype(str).str.upper().str.strip()\n",
    "\n",
    "min_n = 30\n",
    "g = (df.dropna(subset=[\"broad_phase_of_flight\"])\n",
    "       .groupby(\"broad_phase_of_flight\", dropna=False)\n",
    "       .agg(\n",
    "           n=(\"fatal_serious_rate\", \"size\"),\n",
    "           fatal_serious_rate_mean=(\"fatal_serious_rate\",\"mean\"),\n",
    "           destroyed_rate=(\"destroyed\",\"mean\") if \"destroyed\" in df.columns else (\"fatal_serious_rate\",\"mean\")\n",
    "       )\n",
    "       .query(\"n >= @min_n\")\n",
    "       .reset_index())\n",
    "\n",
    "display(g.sort_values(\"fatal_serious_rate_mean\", ascending=False))\n",
    "\n",
    "# Mean severity barplot\n",
    "plt.figure(figsize=(10,6))\n",
    "sns.barplot(data=g.sort_values(\"fatal_serious_rate_mean\", ascending=False),\n",
    "            x=\"fatal_serious_rate_mean\", y=\"broad_phase_of_flight\")\n",
    "plt.xlabel(\"Mean fatal/serious injured fraction\")\n",
    "plt.ylabel(\"Phase of flight\")\n",
    "plt.title(f\"Severity by Phase of Flight (n ≥ {min_n})\")\n",
    "plt.tight_layout(); plt.show()\n",
    "\n",
    "# Distributional plot (strip) for all phases with n ≥ min_n\n",
    "phases_to_plot = g[\"broad_phase_of_flight\"].tolist()\n",
    "plt.figure(figsize=(10,6))\n",
    "sns.stripplot(data=df[df[\"broad_phase_of_flight\"].isin(phases_to_plot)],\n",
    "              x=\"fatal_serious_rate\", y=\"broad_phase_of_flight\", jitter=True, alpha=0.6)\n",
    "plt.xlabel(\"Fatal/serious injured fraction\")\n",
    "plt.ylabel(\"Phase of flight\")\n",
    "plt.title(\"Distribution of Severity by Phase (events in groups with n ≥ threshold)\")\n",
    "plt.tight_layout(); plt.show()\n",
    "\n",
    "# Quick auto-summary\n",
    "def pct(x): return \"NA\" if pd.isna(x) else f\"{100*x:.1f}%\"\n",
    "top = g.sort_values(\"fatal_serious_rate_mean\", ascending=False).head(2)\n",
    "bot = g.sort_values(\"fatal_serious_rate_mean\", ascending=True).head(2)\n",
    "print(\"Phase summary:\",\n",
    "      \"Highest:\", \", \".join(f\"{r.broad_phase_of_flight} ({pct(r.fatal_serious_rate_mean)})\" for _,r in top.iterrows()),\n",
    "      \"| Lowest:\", \", \".join(f\"{r.broad_phase_of_flight} ({pct(r.fatal_serious_rate_mean)})\" for _,r in bot.iterrows()))\n"
   ]
  },
  {
   "cell_type": "markdown",
   "id": "a3a43dc7",
   "metadata": {},
   "source": [
    "Phase of Flight - effect on severity and aircraft destruction:\n",
    "\n",
    "Phase summary: Highest: MANEUVERING (36.0%), CLIMB (31.8%) | Lowest: LANDING (0.9%), TAXI (1.7%)\n",
    "\n",
    "Accidents during maneuvering and climb are far more severe, while landing and taxi incidents tend to be minor—note this is conditional on accidents, not overall flight risk."
   ]
  }
 ],
 "metadata": {
  "kernelspec": {
   "display_name": "Python (learn-env)",
   "language": "python",
   "name": "learn-env"
  },
  "language_info": {
   "codemirror_mode": {
    "name": "ipython",
    "version": 3
   },
   "file_extension": ".py",
   "mimetype": "text/x-python",
   "name": "python",
   "nbconvert_exporter": "python",
   "pygments_lexer": "ipython3",
   "version": "3.12.4"
  }
 },
 "nbformat": 4,
 "nbformat_minor": 5
}
